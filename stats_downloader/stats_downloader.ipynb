{
 "cells": [
  {
   "cell_type": "code",
   "execution_count": 5,
   "metadata": {},
   "outputs": [
    {
     "output_type": "stream",
     "name": "stdout",
     "text": [
      "(59,)\n(52,)\n(537, 29)\n(537, 30)\nIndex(['Rk', 'Player', 'Pos', 'Age', 'Tm', 'G', 'MP', 'PER', 'TS%', '3PAr',\n       'FTr', 'ORB%', 'DRB%', 'TRB%', 'AST%', 'STL%', 'BLK%', 'TOV%', 'USG%',\n       'Unnamed: 19', 'OWS', 'DWS', 'WS', 'WS/48', 'Unnamed: 24', 'OBPM',\n       'DBPM', 'BPM', 'VORP', 'GS', 'FG', 'FGA', 'FG%', '3P', '3PA', '3P%',\n       '2P', '2PA', '2P%', 'eFG%', 'FT', 'FTA', 'FT%', 'ORB', 'DRB', 'TRB',\n       'AST', 'STL', 'BLK', 'TOV', 'PF', 'PTS'],\n      dtype='object')\n"
     ]
    },
    {
     "output_type": "execute_result",
     "data": {
      "text/plain": [
       "(537, 52)"
      ]
     },
     "metadata": {},
     "execution_count": 5
    }
   ],
   "source": [
    "import numpy as np\n",
    "import pandas as pd\n",
    "\n",
    "files = ['../data/players/00-01_advanced.csv','../data/players/00-01_per_game.csv']\n",
    "\n",
    "lst_df = []\n",
    "for f in files:\n",
    "    lst_df.append(pd.read_csv(f))\n",
    "\n",
    "all_features = np.append(lst_df[0].columns,lst_df[1].columns)\n",
    "print(all_features.shape)\n",
    "unique_features, c = np.unique(all_features, return_counts=True)\n",
    "dup = unique_features[c > 1]\n",
    "print(unique_features.shape)\n",
    "\n",
    "to_merge_on = ['Player','Tm']\n",
    "to_remove = dup.tolist()\n",
    "for i in to_merge_on:\n",
    "    to_remove.remove(i)\n",
    "\n",
    "for l in lst_df:\n",
    "    print(l.shape)\n",
    "    \n",
    "df_0 = lst_df[0]\n",
    "df_1 = lst_df[1].drop(columns=to_remove)\n",
    "\n",
    "df_merge = pd.merge(df_0, df_1, on=to_merge_on, how='outer')\n",
    "print(df_merge.columns)\n",
    "df_merge.to_csv('../data/players/00-01_merge_stats.csv', index=False)\n",
    "df_merge.shape"
   ]
  },
  {
   "source": [
    "## Data downloader\n",
    "\n",
    "Still a W.I.P, the idea is to use BeautifulSoup to download the data automatically"
   ],
   "cell_type": "markdown",
   "metadata": {}
  },
  {
   "cell_type": "code",
   "execution_count": 7,
   "metadata": {
    "tags": []
   },
   "outputs": [],
   "source": [
    "import requests\n",
    "from bs4 import BeautifulSoup\n",
    "\n",
    "x = requests.get('https://www.basketball-reference.com/leagues/NBA_2020_per_game.html')\n",
    "\n",
    "html = BeautifulSoup(x.text)"
   ]
  },
  {
   "cell_type": "code",
   "execution_count": null,
   "metadata": {},
   "outputs": [],
   "source": []
  },
  {
   "cell_type": "code",
   "execution_count": null,
   "metadata": {},
   "outputs": [],
   "source": []
  }
 ],
 "metadata": {
  "kernelspec": {
   "name": "Python 3.7.2 32-bit ('nba_stat')",
   "display_name": "Python 3.7.2 32-bit ('nba_stat')",
   "metadata": {
    "interpreter": {
     "hash": "6167dff09999b90d24fb96c4bbfd9bb4ec4cb601d9fbf122a51597aa6df5977f"
    }
   }
  },
  "language_info": {
   "codemirror_mode": {
    "name": "ipython",
    "version": 3
   },
   "file_extension": ".py",
   "mimetype": "text/x-python",
   "name": "python",
   "nbconvert_exporter": "python",
   "pygments_lexer": "ipython3",
   "version": "3.7.2-final"
  }
 },
 "nbformat": 4,
 "nbformat_minor": 2
}