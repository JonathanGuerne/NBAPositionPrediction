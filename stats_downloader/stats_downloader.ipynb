{
 "cells": [
  {
   "cell_type": "code",
   "execution_count": 3,
   "metadata": {},
   "outputs": [
    {
     "name": "stdout",
     "output_type": "stream",
     "text": [
      "(59,)\n",
      "(52,)\n",
      "(545, 29)\n",
      "(545, 30)\n",
      "Index(['Rk', 'Player', 'Pos', 'Age', 'Tm', 'G', 'MP', 'PER', 'TS%', '3PAr',\n",
      "       'FTr', 'ORB%', 'DRB%', 'TRB%', 'AST%', 'STL%', 'BLK%', 'TOV%', 'USG%',\n",
      "       'Unnamed: 19', 'OWS', 'DWS', 'WS', 'WS/48', 'Unnamed: 24', 'OBPM',\n",
      "       'DBPM', 'BPM', 'VORP', 'GS', 'FG', 'FGA', 'FG%', '3P', '3PA', '3P%',\n",
      "       '2P', '2PA', '2P%', 'eFG%', 'FT', 'FTA', 'FT%', 'ORB', 'DRB', 'TRB',\n",
      "       'AST', 'STL', 'BLK', 'TOV', 'PF', 'PTS'],\n",
      "      dtype='object')\n"
     ]
    },
    {
     "data": {
      "text/plain": [
       "(545, 52)"
      ]
     },
     "execution_count": 3,
     "metadata": {},
     "output_type": "execute_result"
    }
   ],
   "source": [
    "import numpy as np\n",
    "import pandas as pd\n",
    "\n",
    "files = ['adv_stats_95-96.csv','stats_per_game_95-96.csv']\n",
    "\n",
    "lst_df = []\n",
    "for f in files:\n",
    "    lst_df.append(pd.read_csv(f))\n",
    "\n",
    "all_features = np.append(lst_df[0].columns,lst_df[1].columns)\n",
    "print(all_features.shape)\n",
    "unique_features, c = np.unique(all_features, return_counts=True)\n",
    "dup = unique_features[c > 1]\n",
    "print(unique_features.shape)\n",
    "\n",
    "to_merge_on = ['Player','Tm']\n",
    "to_remove = dup.tolist()\n",
    "for i in to_merge_on:\n",
    "    to_remove.remove(i)\n",
    "\n",
    "for l in lst_df:\n",
    "    print(l.shape)\n",
    "    \n",
    "df_0 = lst_df[0]\n",
    "df_1 = lst_df[1].drop(columns=to_remove)\n",
    "\n",
    "df_merge = pd.merge(df_0, df_1, on=to_merge_on, how='outer')\n",
    "print(df_merge.columns)\n",
    "df_merge.to_csv('merge_stats_95-96.csv', index=False)\n",
    "df_merge.shape"
   ]
  },
  {
   "source": [
    "## Data downloader\n",
    "\n",
    "Still a W.I.P, the idea is to use BeautifulSoup to download the data automatically"
   ],
   "cell_type": "markdown",
   "metadata": {}
  },
  {
   "cell_type": "code",
   "execution_count": 6,
   "metadata": {
    "tags": []
   },
   "outputs": [
    {
     "output_type": "execute_result",
     "data": {
      "text/plain": [
       "ght non_qual\" data-stat=\"fg3_pct\">.222</td><td class=\"right non_qual\" data-stat=\"fg2_per_g\">4.0</td><td class=\"right non_qual\" data-stat=\"fg2a_per_g\">9.3</td><td class=\"right non_qual\" data-stat=\"fg2_pct\">.431</td><td class=\"right non_qual\" data-stat=\"efg_pct\">.411</td><td class=\"right non_qual\" data-stat=\"ft_per_g\">1.6</td><td class=\"right non_qual\" data-stat=\"fta_per_g\">2.5</td><td class=\"right non_qual\" data-stat=\"ft_pct\">.667</td><td class=\"right non_qual\" data-stat=\"orb_per_g\">1.5</td><td class=\"right non_qual\" data-stat=\"drb_per_g\">5.2</td><td class=\"right non_qual\" data-stat=\"trb_per_g\">6.6</td><td class=\"right non_qual\" data-stat=\"ast_per_g\">4.0</td><td class=\"right non_qual\" data-stat=\"stl_per_g\">0.6</td><td class=\"right non_qual\" data-stat=\"blk_per_g\">0.5</td><td class=\"right non_qual\" data-stat=\"tov_per_g\">2.2</td><td class=\"right non_qual\" data-stat=\"pf_per_g\">3.5</td><td class=\"right non_qual\" data-stat=\"pts_per_g\">11.3</td></tr>\n",
       "<tr class=\"thead\">\n",
       "<th aria-label=\"Rank\" class=\"ranker sort_default_asc show_partial_when_sorting center\" data-stat=\"ranker\" data-tip=\"Rank\">Rk</th>\n",
       "<th aria-label=\"Player\" class=\"sort_default_asc center\" data-stat=\"player\">Player</th>\n",
       "<th aria-label=\"Position\" class=\"sort_default_asc center\" data-stat=\"pos\" data-tip=\"Position\">Pos</th>\n",
       "<th aria-label=\"Player's age on February 1 of the season\" class=\"sort_default_asc center\" data-stat=\"age\" data-tip=\"Player's age on February 1 of the season\">Age</th>\n",
       "<th aria-label=\"Team\" class=\"sort_default_asc center\" data-stat=\"team_id\" data-tip=\"Team\">Tm</th>\n",
       "<th aria-label=\"Games\" class=\"center\" data-stat=\"g\" data-tip=\"Games\">G</th>\n",
       "<th aria-label=\"Games Started\" class=\"center\" data-stat=\"gs\" data-tip=\"Games Started\">GS</th>\n",
       "<th aria-label=\"Minutes Played Per Game\" class=\"hide_non_quals center\" data-stat=\"mp_per_g\" data-tip=\"Minutes Played Per Game\">MP</th>\n",
       "<th aria-label=\"Field Goals Per Game\" class=\"hide_non_quals center\" data-stat=\"fg_per_g\" data-tip=\"Field Goals Per Game\">FG</th>\n",
       "<th aria-label=\"Field Goal Attempts Per Game\" class=\"hide_non_quals center\" data-stat=\"fga_per_g\" data-tip=\"Field Goal Attempts Per Game\">FGA</th>\n",
       "<th aria-label=\"Field Goal Percentage\" class=\"hide_non_quals center\" data-stat=\"fg_pct\" data-tip=\"Field Goal Percentage\">FG%</th>\n",
       "<th aria-label=\"3-Point Field Goals Per Game\" class=\"hide_non_quals center\" data-stat=\"fg3_per_g\" data-tip=\"3-Point Field Goals Per Game\">3P</th>\n",
       "<th aria-label=\"3-Point Field Goal Attempts Per Game\" class=\"hide_non_quals center\" data-stat=\"fg3a_per_g\" data-tip=\"3-Point Field Goal Attempts Per Game\">3PA</th>\n",
       "<th aria-label=\"3-Point Field Goal Percentage\" class=\"hide_non_quals center\" data-stat=\"fg3_pct\" data-tip=\"3-Point Field Goal Percentage\">3P%</th>\n",
       "<th aria-label=\"2-Point Field Goals Per Game\" class=\"hide_non_quals center\" data-stat=\"fg2_per_g\" data-tip=\"2-Point Field Goals Per Game\">2P</th>\n",
       "<th aria-label=\"2-Point Field Goal Attempts Per Game\" class=\"hide_non_quals center\" data-stat=\"fg2a_per_g\" data-tip=\"2-Point Field Goal Attempts Per Game\">2PA</th>\n",
       "<th aria-label=\"2-Point Field Goal Percentage\" class=\"hide_non_quals center\" data-stat=\"fg2_pct\" data-tip=\"2-Point Field Goal Percentage\">2P%</th>\n",
       "<th aria-label=\"Effective Field Goal Percentage\" class=\"hide_non_quals center\" data-stat=\"efg_pct\" data-tip=\"&lt;strong&gt;Effective Field Goal Percentage&lt;/strong&gt;&lt;br&gt;This statistic adjusts for the fact that a 3-point field goal is worth one more point than a 2-point field goal.\">eFG%</th>\n",
       "<th aria-label=\"Free Throws Per Game\" class=\"hide_non_quals center\" data-stat=\"ft_per_g\" data-tip=\"Free Throws Per Game\">FT</th>\n",
       "<th aria-label=\"Free Throw Attempts Per Game\" class=\"hide_non_quals center\" data-stat=\"fta_per_g\" data-tip=\"Free Throw Attempts Per Game\">FTA</th>\n",
       "<th aria-label=\"Free Throw Percentage\" class=\"hide_non_quals center\" data-stat=\"ft_pct\" data-tip=\"Free Throw Percentage\">FT%</th>\n",
       "<th aria-label=\"Offensive Rebounds Per Game\" class=\"hide_non_quals center\" data-stat=\"orb_per_g\" data-tip=\"Offensive Rebounds Per Game\">ORB</th>\n",
       "<th aria-label=\"Defensive Rebounds Per Game\" class=\"hide_non_quals center\" data-stat=\"drb_per_g\" data-tip=\"Defensive Rebounds Per Game\">DRB</th>\n",
       "<th aria-label=\"Total Rebounds Per Game\" class=\"hide_non_quals center\" data-stat=\"trb_per_g\" data-tip=\"Total Rebounds Per Game\">TRB</th>\n",
       "<th aria-label=\"Assists Per Game\" class=\"hide_non_quals center\" data-stat=\"ast_per_g\" data-tip=\"Assists Per Game\">AST</th>\n",
       "<th aria-label=\"Steals Per Game\" class=\"hide_non_quals center\" data-stat=\"stl_per_g\" data-tip=\"Steals Per Game\">STL</th>\n",
       "<th aria-label=\"Blocks Per Game\" class=\"hide_non_quals center\" data-stat=\"blk_per_g\" data-tip=\"Blocks Per Game\">BLK</th>\n",
       "<th aria-label=\"Turnovers Per Game\" class=\"hide_non_quals center\" data-stat=\"tov_per_g\" data-tip=\"Turnovers Per Game\">TOV</th>\n",
       "<th aria-label=\"Personal Fouls Per Game\" class=\"hide_non_quals center\" data-stat=\"pf_per_g\" data-tip=\"Personal Fouls Per Game\">PF</th>\n",
       "<th aria-label=\"Points Per Game\" class=\"hide_non_quals center\" data-stat=\"pts_per_g\" data-tip=\"Points Per Game\">PTS</th>\n",
       "</tr>\n",
       "<tr class=\"full_table\"><th class=\"right\" csk=\"521\" data-stat=\"ranker\" scope=\"row\">521</th><td class=\"left\" csk=\"Wood,Christian\" data-append-csv=\"woodch01\" data-stat=\"player\"><a href=\"/players/w/woodch01.html\">Christian Wood</a></td><td class=\"center\" data-stat=\"pos\">PF</td><td class=\"right\" data-stat=\"age\">24</td><td class=\"left\" data-stat=\"team_id\"><a href=\"/teams/DET/2020.html\">DET</a></td><td class=\"right\" data-stat=\"g\">62</td><td class=\"right\" data-stat=\"gs\">12</td><td class=\"right\" data-stat=\"mp_per_g\">21.4</td><td class=\"right\" data-stat=\"fg_per_g\">4.6</td><td class=\"right\" data-stat=\"fga_per_g\">8.2</td><td class=\"right\" data-stat=\"fg_pct\">.567</td><td class=\"right\" data-stat=\"fg3_per_g\">0.9</td><td class=\"right\" data-stat=\"fg3a_per_g\">2.3</td><td class=\"right non_qual\" data-stat=\"fg3_pct\">.386</td><td class=\"right\" data-stat=\"fg2_per_g\">3.8</td><td class=\"right\" data-stat=\"fg2a_per_g\">5.9</td><td class=\"right\" data-stat=\"fg2_pct\">.636</td><td class=\"right\" data-stat=\"efg_pct\">.620</td><td class=\"right\" data-stat=\"ft_per_g\">2.9</td><td class=\"right\" data-stat=\"fta_per_g\">3.9</td><td class=\"right\" data-stat=\"ft_pct\">.744</td><td class=\"right\" data-stat=\"orb_per_g\">1.7</td><td class=\"right\" data-stat=\"drb_per_g\">4.6</td><td class=\"right\" data-stat=\"trb_per_g\">6.3</td><td class=\"right\" data-stat=\"ast_per_g\">1.0</td><td class=\"right\" data-stat=\"stl_per_g\">0.5</td><td class=\"right\" data-stat=\"blk_per_g\">0.9</td><td class=\"right\" data-stat=\"tov_per_g\">1.4</td><td class=\"right\" data-stat=\"pf_per_g\">1.6</td><td class=\"right\" data-stat=\"pts_per_g\">13.1</td></tr>\n",
       "<tr class=\"full_table\"><th class=\"right\" csk=\"522\" data-stat=\"ranker\" scope=\"row\">522</th><td class=\"left\" csk=\"Wright,Delon\" data-append-csv=\"wrighde01\" data-stat=\"player\"><a href=\"/players/w/wrighde01.html\">Delon Wright</a></td><td class=\"center\" data-stat=\"pos\">SG</td><td class=\"right\" data-stat=\"age\">27</td><td class=\"left\" data-stat=\"team_id\"><a href=\"/teams/DAL/2020.html\">DAL</a></td><td class=\"right\" data-stat=\"g\">73</td><td class=\"right\" data-stat=\"gs\">5</td><td class=\"right\" data-stat=\"mp_per_g\">21.5</td><td class=\"right\" data-stat=\"fg_per_g\">2.6</td><td class=\"right\" data-stat=\"fga_per_g\">5.6</td><td class=\"right non_qual\" data-stat=\"fg_pct\">.462</td><td class=\"right\" data-stat=\"fg3_per_g\">0.6</td><td class=\"right\" data-stat=\"fg3a_per_g\">1.7</td><td class=\"right non_qual\" data-stat=\"fg3_pct\">.370</td><td class=\"right\" data-stat=\"fg2_per_g\">2.0</td><td class=\"right\" data-stat=\"fg2a_per_g\">3.9</td><td class=\"right non_qual\" data-stat=\"fg2_pct\">.504</td><td class=\"right non_qual\" data-stat=\"efg_pct\">.519</td><td class=\"right\" data-stat=\"ft_per_g\">1.1</td><td class=\"right\" data-stat=\"fta_per_g\">1.4</td><td class=\"right non_qual\" data-stat=\"ft_pct\">.770</td><td class=\"right\" data-stat=\"orb_per_g\">1.0</td><td class=\"right\" data-stat=\"drb_per_g\">2.9</td><td class=\"right\" data-stat=\"trb_per_g\">3.8</td><td class=\"right\" data-stat=\"ast_per_g\">3.3</td><td class=\"right\" data-stat=\"stl_per_g\">1.2</td><td class=\"right\" data-stat=\"blk_per_g\">0.3</td><td class=\"right\" data-stat=\"tov_per_g\">1.0</td><td class=\"right\" data-stat=\"pf_per_g\">1.3</td><td class=\"right\" data-stat=\"pts_per_g\">6.9</td></tr>\n",
       "<tr class=\"full_table\"><th class=\"right\" csk=\"523\" data-stat=\"ranker\" scope=\"row\">523</th><td class=\"left\" csk=\"Wright-Foreman,Justin\" data-append-csv=\"wrighju02\" data-stat=\"player\"><a href=\"/players/w/wrighju02.html\">Justin Wright-Foreman</a></td><td class=\"center\" data-stat=\"pos\">PG</td><td class=\"right\" data-stat=\"age\">22</td><td class=\"left\" data-stat=\"team_id\"><a href=\"/teams/UTA/2020.html\">UTA</a></td><td class=\"right\" data-stat=\"g\">4</td><td class=\"right iz\" data-stat=\"gs\">0</td><td class=\"right non_qual\" data-stat=\"mp_per_g\">11.3</td><td class=\"right non_qual\" data-stat=\"fg_per_g\">1.8</td><td class=\"right non_qual\" data-stat=\"fga_per_g\">5.0</td><td class=\"right non_qual\" data-stat=\"fg_pct\">.350</td><td class=\"right non_qual\" data-stat=\"fg3_per_g\">0.5</td><td class=\"right non_qual\" data-stat=\"fg3a_per_g\">2.5</td><td class=\"right non_qual\" data-stat=\"fg3_pct\">.200</td><td class=\"right non_qual\" data-stat=\"fg2_per_g\">1.3</td><td class=\"right non_qual\" data-stat=\"fg2a_per_g\">2.5</td><td class=\"right non_qual\" data-stat=\"fg2_pct\">.500</td><td class=\"right non_qual\" data-stat=\"efg_pct\">.400</td><td class=\"right non_qual\" data-stat=\"ft_per_g\">0.8</td><td class=\"right non_qual\" data-stat=\"fta_per_g\">1.0</td><td class=\"right non_qual\" data-stat=\"ft_pct\">.750</td><td class=\"right non_qual\" data-stat=\"orb_per_g\">0.0</td><td class=\"right non_qual\" data-stat=\"drb_per_g\">1.3</td><td class=\"right non_qual\" data-stat=\"trb_per_g\">1.3</td><td class=\"right non_qual\" data-stat=\"ast_per_g\">1.8</td><td class=\"right non_qual\" data-stat=\"stl_per_g\">0.5</td><td class=\"right non_qual\" data-stat=\"blk_per_g\">0.0</td><td class=\"right non_qual\" data-stat=\"tov_per_g\">0.8</td><td class=\"right non_qual\" data-stat=\"pf_per_g\">1.3</td><td class=\"right non_qual\" data-stat=\"pts_per_g\">4.8</td></tr>\n",
       "<tr class=\"full_table\"><th class=\"right\" csk=\"524\" data-stat=\"ranker\" scope=\"row\">524</th><td class=\"left\" csk=\"Young,Thaddeus\" data-append-csv=\"youngth01\" data-stat=\"player\"><a href=\"/players/y/youngth01.html\">Thaddeus Young</a></td><td class=\"center\" data-stat=\"pos\">PF</td><td class=\"right\" data-stat=\"age\">31</td><td class=\"left\" data-stat=\"team_id\"><a href=\"/teams/CHI/2020.html\">CHI</a></td><td class=\"right\" data-stat=\"g\">64</td><td class=\"right\" data-stat=\"gs\">16</td><td class=\"right\" data-stat=\"mp_per_g\">24.9</td><td class=\"right\" data-stat=\"fg_per_g\">4.2</td><td class=\"right\" data-stat=\"fga_per_g\">9.4</td><td class=\"right\" data-stat=\"fg_pct\">.448</td><td class=\"right\" data-stat=\"fg3_per_g\">1.2</td><td class=\"right\" data-stat=\"fg3a_per_g\">3.5</td><td class=\"right\" data-stat=\"fg3_pct\">.356</td><td class=\"right\" data-stat=\"fg2_per_g\">3.0</td><td class=\"right\" data-stat=\"fg2a_per_g\">5.9</td><td class=\"right\" data-stat=\"fg2_pct\">.501</td><td class=\"right\" data-stat=\"efg_pct\">.513</td><td class=\"right\" data-stat=\"ft_per_g\">0.7</td><td class=\"right\" data-stat=\"fta_per_g\">1.1</td><td class=\"right non_qual\" data-stat=\"ft_pct\">.583</td><td class=\"right\" data-stat=\"orb_per_g\">1.5</td><td class=\"right\" data-stat=\"drb_per_g\">3.5</td><td class=\"right\" data-stat=\"trb_per_g\">4.9</td><td class=\"right\" data-stat=\"ast_per_g\">1.8</td><td class=\"right\" data-stat=\"stl_per_g\">1.4</td><td class=\"right\" data-stat=\"blk_per_g\">0.4</td><td class=\"right\" data-stat=\"tov_per_g\">1.6</td><td class=\"right\" data-stat=\"pf_per_g\">2.1</td><td class=\"right\" data-stat=\"pts_per_g\">10.3</td></tr>\n",
       "<tr class=\"full_table\"><th class=\"right\" csk=\"525\" data-stat=\"ranker\" scope=\"row\">525</th><td class=\"left\" csk=\"Young,Trae\" data-append-csv=\"youngtr01\" data-stat=\"player\"><a href=\"/players/y/youngtr01.html\">Trae Young</a></td><td class=\"center\" data-stat=\"pos\">PG</td><td class=\"right\" data-stat=\"age\">21</td><td class=\"left\" data-stat=\"team_id\"><a href=\"/teams/ATL/2020.html\">ATL</a></td><td class=\"right\" data-stat=\"g\">60</td><td class=\"right\" data-stat=\"gs\">60</td><td class=\"right\" data-stat=\"mp_per_g\">35.3</td><td class=\"right\" data-stat=\"fg_per_g\">9.1</td><td class=\"right\" data-stat=\"fga_per_g\">20.8</td><td class=\"right\" data-stat=\"fg_pct\">.437</td><td class=\"right\" data-stat=\"fg3_per_g\">3.4</td><td class=\"right\" data-stat=\"fg3a_per_g\">9.5</td><td class=\"right\" data-stat=\"fg3_pct\">.361</td><td class=\"right\" data-stat=\"fg2_per_g\">5.7</td><td class=\"right\" data-stat=\"fg2a_per_g\">11.4</td><td class=\"right\" data-stat=\"fg2_pct\">.501</td><td class=\"right\" data-stat=\"efg_pct\">.519</td><td class=\"right\" data-stat=\"ft_per_g\">8.0</td><td class=\"right\" data-stat=\"fta_per_g\">9.3</td><td class=\"right\" data-stat=\"ft_pct\">.860</td><td class=\"right\" data-stat=\"orb_per_g\">0.5</td><td class=\"right\" data-stat=\"drb_per_g\">3.7</td><td class=\"right\" data-stat=\"trb_per_g\">4.3</td><td class=\"right\" data-stat=\"ast_per_g\">9.3</td><td class=\"right\" data-stat=\"stl_per_g\">1.1</td><td class=\"right\" data-stat=\"blk_per_g\">0.1</td><td class=\"right\" data-stat=\"tov_per_g\">4.8</td><td class=\"right\" data-stat=\"pf_per_g\">1.7</td><td class=\"right\" data-stat=\"pts_per_g\">29.6</td></tr>\n",
       "<tr class=\"full_table\"><th class=\"right\" csk=\"526\" data-stat=\"ranker\" scope=\"row\">526</th><td class=\"left\" csk=\"Zeller,Cody\" data-append-csv=\"zelleco01\" data-stat=\"player\"><a href=\"/players/z/zelleco01.html\">Cody Zeller</a></td><td class=\"center\" data-stat=\"pos\">C</td><td class=\"right\" data-stat=\"age\">27</td><td class=\"left\" data-stat=\"team_id\"><a href=\"/teams/CHO/2020.html\">CHO</a></td><td class=\"right\" data-stat=\"g\">58</td><td class=\"right\" data-stat=\"gs\">39</td><td class=\"right\" data-stat=\"mp_per_g\">23.1</td><td class=\"right\" data-stat=\"fg_per_g\">4.3</td><td class=\"right\" data-stat=\"fga_per_g\">8.3</td><td class=\"right\" data-stat=\"fg_pct\">.524</td><td class=\"right\" data-stat=\"fg3_per_g\">0.3</td><td class=\"right\" data-stat=\"fg3a_per_g\">1.3</td><td class=\"right non_qual\" data-stat=\"fg3_pct\">.240</td><td class=\"right\" data-stat=\"fg2_per_g\">4.0</td><td class=\"right\" data-stat=\"fg2a_per_g\">7.0</td><td class=\"right\" data-stat=\"fg2_pct\">.577</td><td class=\"right\" data-stat=\"efg_pct\">.543</td><td class=\"right\" data-stat=\"ft_per_g\">2.1</td><td class=\"right\" data-stat=\"fta_per_g\">3.1</td><td class=\"right\" data-stat=\"ft_pct\">.682</td><td class=\"right\" data-stat=\"orb_per_g\">2.8</td><td class=\"right\" data-stat=\"drb_per_g\">4.3</td><td class=\"right\" data-stat=\"trb_per_g\">7.1</td><td class=\"right\" data-stat=\"ast_per_g\">1.5</td><td class=\"right\" data-stat=\"stl_per_g\">0.7</td><td class=\"right\" data-stat=\"blk_per_g\">0.4</td><td class=\"right\" data-stat=\"tov_per_g\">1.3</td><td class=\"right\" data-stat=\"pf_per_g\">2.4</td><td class=\"right\" data-stat=\"pts_per_g\">11.1</td></tr>\n",
       "<tr class=\"full_table\"><th class=\"right\" csk=\"527\" data-stat=\"ranker\" scope=\"row\">527</th><td class=\"left\" csk=\"Zeller,Tyler\" data-append-csv=\"zellety01\" data-stat=\"player\"><a href=\"/players/z/zellety01.html\">Tyler Zeller</a></td><td class=\"center\" data-stat=\"pos\">C</td><td class=\"right\" data-stat=\"age\">30</td><td class=\"left\" data-stat=\"team_id\"><a href=\"/teams/SAS/2020.html\">SAS</a></td><td class=\"right\" data-stat=\"g\">2</td><td class=\"right iz\" data-stat=\"gs\">0</td><td class=\"right non_qual\" data-stat=\"mp_per_g\">2.0</td><td class=\"right non_qual\" data-stat=\"fg_per_g\">0.5</td><td class=\"right non_qual\" data-stat=\"fga_per_g\">2.0</td><td class=\"right non_qual\" data-stat=\"fg_pct\">.250</td><td class=\"right non_qual\" data-stat=\"fg3_per_g\">0.0</td><td class=\"right non_qual\" data-stat=\"fg3a_per_g\">0.0</td><td class=\"right non_qual iz\" data-stat=\"fg3_pct\"></td><td class=\"right non_qual\" data-stat=\"fg2_per_g\">0.5</td><td class=\"right non_qual\" data-stat=\"fg2a_per_g\">2.0</td><td class=\"right non_qual\" data-stat=\"fg2_pct\">.250</td><td class=\"right non_qual\" data-stat=\"efg_pct\">.250</td><td class=\"right non_qual\" data-stat=\"ft_per_g\">0.0</td><td class=\"right non_qual\" data-stat=\"fta_per_g\">0.0</td><td class=\"right non_qual iz\" data-stat=\"ft_pct\"></td><td class=\"right non_qual\" data-stat=\"orb_per_g\">1.5</td><td class=\"right non_qual\" data-stat=\"drb_per_g\">0.5</td><td class=\"right non_qual\" data-stat=\"trb_per_g\">2.0</td><td class=\"right non_qual\" data-stat=\"ast_per_g\">0.0</td><td class=\"right non_qual\" data-stat=\"stl_per_g\">0.0</td><td class=\"right non_qual\" data-stat=\"blk_per_g\">0.0</td><td class=\"right non_qual\" data-stat=\"tov_per_g\">0.0</td><td class=\"right non_qual\" data-stat=\"pf_per_g\">0.0</td><td class=\"right non_qual\" data-stat=\"pts_per_g\">1.0</td></tr>\n",
       "<tr class=\"full_table\"><th class=\"right\" csk=\"528\" data-stat=\"ranker\" scope=\"row\">528</th><td class=\"left\" csk=\"Žižić,Ante\" data-append-csv=\"zizican01\" data-stat=\"player\"><a href=\"/players/z/zizican01.html\">Ante Žižić</a></td><td class=\"center\" data-stat=\"pos\">C</td><td class=\"right\" data-stat=\"age\">23</td><td class=\"left\" data-stat=\"team_id\"><a href=\"/teams/CLE/2020.html\">CLE</a></td><td class=\"right\" data-stat=\"g\">22</td><td class=\"right iz\" data-stat=\"gs\">0</td><td class=\"right non_qual\" data-stat=\"mp_per_g\">10.0</td><td class=\"right non_qual\" data-stat=\"fg_per_g\">1.9</td><td class=\"right non_qual\" data-stat=\"fga_per_g\">3.3</td><td class=\"right non_qual\" data-stat=\"fg_pct\">.569</td><td class=\"right non_qual\" data-stat=\"fg3_per_g\">0.0</td><td class=\"right non_qual\" data-stat=\"fg3a_per_g\">0.0</td><td class=\"right non_qual iz\" data-stat=\"fg3_pct\"></td><td class=\"right non_qual\" data-stat=\"fg2_per_g\">1.9</td><td class=\"right non_qual\" data-stat=\"fg2a_per_g\">3.3</td><td class=\"right non_qual\" data-stat=\"fg2_pct\">.569</td><td class=\"right non_qual\" data-stat=\"efg_pct\">.569</td><td class=\"right non_qual\" data-stat=\"ft_per_g\">0.6</td><td class=\"right non_qual\" data-stat=\"fta_per_g\">0.9</td><td class=\"right non_qual\" data-stat=\"ft_pct\">.737</td><td class=\"right non_qual\" data-stat=\"orb_per_g\">0.8</td><td class=\"right non_qual\" data-stat=\"drb_per_g\">2.2</td><td class=\"right non_qual\" data-stat=\"trb_per_g\">3.0</td><td class=\"right non_qual\" data-stat=\"ast_per_g\">0.3</td><td class=\"right non_qual\" data-stat=\"stl_per_g\">0.3</td><td class=\"right non_qual\" data-stat=\"blk_per_g\">0.2</td><td class=\"right non_qual\" data-stat=\"tov_per_g\">0.5</td><td class=\"right non_qual\" data-stat=\"pf_per_g\">1.2</td><td class=\"right non_qual\" data-stat=\"pts_per_g\">4.4</td></tr>\n",
       "<tr class=\"full_table\"><th class=\"right\" csk=\"529\" data-stat=\"ranker\" scope=\"row\">529</th><td class=\"left\" csk=\"Zubac,Ivica\" data-append-csv=\"zubaciv01\" data-stat=\"player\"><a href=\"/players/z/zubaciv01.html\">Ivica Zubac</a></td><td class=\"center\" data-stat=\"pos\">C</td><td class=\"right\" data-stat=\"age\">22</td><td class=\"left\" data-stat=\"team_id\"><a href=\"/teams/LAC/2020.html\">LAC</a></td><td class=\"right\" data-stat=\"g\">72</td><td class=\"right\" data-stat=\"gs\">70</td><td class=\"right\" data-stat=\"mp_per_g\">18.4</td><td class=\"right\" data-stat=\"fg_per_g\">3.3</td><td class=\"right\" data-stat=\"fga_per_g\">5.3</td><td class=\"right non_qual\" data-stat=\"fg_pct\">.613</td><td class=\"right\" data-stat=\"fg3_per_g\">0.0</td><td class=\"right\" data-stat=\"fg3a_per_g\">0.0</td><td class=\"right non_qual\" data-stat=\"fg3_pct\">.000</td><td class=\"right\" data-stat=\"fg2_per_g\">3.3</td><td class=\"right\" data-stat=\"fg2a_per_g\">5.3</td><td class=\"right non_qual\" data-stat=\"fg2_pct\">.616</td><td class=\"right non_qual\" data-stat=\"efg_pct\">.613</td><td class=\"right\" data-stat=\"ft_per_g\">1.7</td><td class=\"right\" data-stat=\"fta_per_g\">2.3</td><td class=\"right\" data-stat=\"ft_pct\">.747</td><td class=\"right\" data-stat=\"orb_per_g\">2.7</td><td class=\"right\" data-stat=\"drb_per_g\">4.8</td><td class=\"right\" data-stat=\"trb_per_g\">7.5</td><td class=\"right\" data-stat=\"ast_per_g\">1.1</td><td class=\"right\" data-stat=\"stl_per_g\">0.2</td><td class=\"right\" data-stat=\"blk_per_g\">0.9</td><td class=\"right\" data-stat=\"tov_per_g\">0.8</td><td class=\"right\" data-stat=\"pf_per_g\">2.3</td><td class=\"right\" data-stat=\"pts_per_g\">8.3</td></tr>\n",
       "</tbody></table>"
      ]
     },
     "metadata": {},
     "execution_count": 6
    }
   ],
   "source": [
    "import requests\n",
    "from bs4 import BeautifulSoup\n",
    "\n",
    "x = requests.get('https://www.basketball-reference.com/leagues/NBA_2020_per_game.html')\n",
    "\n",
    "html = BeautifulSoup(x.text)\n",
    "html.find(id='per_game_stats')"
   ]
  },
  {
   "cell_type": "code",
   "execution_count": null,
   "metadata": {},
   "outputs": [],
   "source": []
  },
  {
   "cell_type": "code",
   "execution_count": null,
   "metadata": {},
   "outputs": [],
   "source": []
  }
 ],
 "metadata": {
  "kernelspec": {
   "name": "Python 3.7.2 32-bit ('nba_stat')",
   "display_name": "Python 3.7.2 32-bit ('nba_stat')",
   "metadata": {
    "interpreter": {
     "hash": "6167dff09999b90d24fb96c4bbfd9bb4ec4cb601d9fbf122a51597aa6df5977f"
    }
   }
  },
  "language_info": {
   "codemirror_mode": {
    "name": "ipython",
    "version": 3
   },
   "file_extension": ".py",
   "mimetype": "text/x-python",
   "name": "python",
   "nbconvert_exporter": "python",
   "pygments_lexer": "ipython3",
   "version": "3.7.2-final"
  }
 },
 "nbformat": 4,
 "nbformat_minor": 2
}