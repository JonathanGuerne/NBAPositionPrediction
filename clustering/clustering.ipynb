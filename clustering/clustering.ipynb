{
 "cells": [
  {
   "cell_type": "code",
   "execution_count": 1,
   "metadata": {},
   "outputs": [],
   "source": [
    "import pandas as pd\n",
    "import numpy as np\n",
    "from sklearn import preprocessing\n",
    "from sklearn.cluster import KMeans, AgglomerativeClustering, Birch\n",
    "from sklearn.metrics import silhouette_score\n",
    "import matplotlib.pyplot as plt\n",
    "from sklearn.model_selection import GridSearchCV"
   ]
  },
  {
   "cell_type": "code",
   "execution_count": 2,
   "metadata": {},
   "outputs": [],
   "source": [
    "def remove_slash_name(_df):\n",
    "    df = _df.copy()\n",
    "    df['Player'] = df['Player'].apply(lambda row: row.split('\\\\')[0])\n",
    "    return df\n",
    "\n",
    "def remove_rk(_df):\n",
    "    df = _df.copy()\n",
    "    return df.drop(['Rk'], axis=1)\n",
    "\n",
    "def remove_team(_df):\n",
    "    df = _df.copy()\n",
    "    return df.drop(['Tm'], axis=1)\n",
    "\n",
    "def remove_age(_df):\n",
    "    df = _df.copy()\n",
    "    return df.drop(['Age'], axis=1)\n",
    "\n",
    "def remove_game(_df):\n",
    "    df = _df.copy()\n",
    "    return df.drop(['G'], axis=1)   \n",
    "\n",
    "def remove_game_started(_df):\n",
    "    df = _df.copy()\n",
    "    return df.drop(['GS'], axis=1)   \n",
    "\n",
    "def remove_min(_df):\n",
    "    df = _df.copy()\n",
    "    return df.drop(['MP'], axis=1)    \n",
    "\n",
    "def extract_name_position(_df):\n",
    "    df = _df.copy()\n",
    "    return _df.drop(['Pos','Player', 'Tm'], axis=1), _df[['Player', 'Pos', 'Tm']]\n",
    "    \n",
    "\n",
    "def remove_nan(_df):\n",
    "    df = _df.copy()\n",
    "    return df.dropna(axis=1, how='all').fillna(0)\n",
    "\n",
    "def normalize_cols(_df):\n",
    "    x = _df.values #returns a numpy array\n",
    "    min_max_scaler = preprocessing.MinMaxScaler()\n",
    "    x_scaled = min_max_scaler.fit_transform(x)\n",
    "    df = pd.DataFrame(x_scaled, columns=_df.columns)\n",
    "    return df\n",
    "\n",
    "def remove_under_threshold(_df, th = 0.0080):\n",
    "    \"\"\"Remove cols with variance under a certain threshold\"\"\"\n",
    "    df = _df.copy()\n",
    "    cols_true_false = [v <= th for v in df.var().values]\n",
    "    return df.drop(np.extract(cols_true_false, df.columns), axis=1)\n",
    "    "
   ]
  },
  {
   "cell_type": "code",
   "execution_count": 3,
   "metadata": {},
   "outputs": [
    {
     "output_type": "stream",
     "name": "stdout",
     "text": [
      "KMeans(algorithm='auto', copy_x=True, init='k-means++', max_iter=10000,\n    n_clusters=13, n_init=500, n_jobs=-1, precompute_distances='auto',\n    random_state=None, tol=5e-05, verbose=0)\n"
     ]
    },
    {
     "output_type": "display_data",
     "data": {
      "text/plain": "<Figure size 432x288 with 1 Axes>",
      "image/svg+xml": "<?xml version=\"1.0\" encoding=\"utf-8\" standalone=\"no\"?>\r\n<!DOCTYPE svg PUBLIC \"-//W3C//DTD SVG 1.1//EN\"\r\n  \"http://www.w3.org/Graphics/SVG/1.1/DTD/svg11.dtd\">\r\n<!-- Created with matplotlib (https://matplotlib.org/) -->\r\n<svg height=\"252.018125pt\" version=\"1.1\" viewBox=\"0 0 372.425 252.018125\" width=\"372.425pt\" xmlns=\"http://www.w3.org/2000/svg\" xmlns:xlink=\"http://www.w3.org/1999/xlink\">\r\n <defs>\r\n  <style type=\"text/css\">\r\n*{stroke-linecap:butt;stroke-linejoin:round;}\r\n  </style>\r\n </defs>\r\n <g id=\"figure_1\">\r\n  <g id=\"patch_1\">\r\n   <path d=\"M -0 252.018125 \r\nL 372.425 252.018125 \r\nL 372.425 0 \r\nL -0 0 \r\nz\r\n\" style=\"fill:none;\"/>\r\n  </g>\r\n  <g id=\"axes_1\">\r\n   <g id=\"patch_2\">\r\n    <path d=\"M 26.925 228.14 \r\nL 361.725 228.14 \r\nL 361.725 10.7 \r\nL 26.925 10.7 \r\nz\r\n\" style=\"fill:#ffffff;\"/>\r\n   </g>\r\n   <g id=\"patch_3\">\r\n    <path clip-path=\"url(#pd48e5e1d38)\" d=\"M 42.143182 228.14 \r\nL 45.947727 228.14 \r\nL 45.947727 21.054286 \r\nL 42.143182 21.054286 \r\nz\r\n\" style=\"fill:#1f77b4;\"/>\r\n   </g>\r\n   <g id=\"patch_4\">\r\n    <path clip-path=\"url(#pd48e5e1d38)\" d=\"M 65.921591 228.14 \r\nL 69.726136 228.14 \r\nL 69.726136 116.632308 \r\nL 65.921591 116.632308 \r\nz\r\n\" style=\"fill:#1f77b4;\"/>\r\n   </g>\r\n   <g id=\"patch_5\">\r\n    <path clip-path=\"url(#pd48e5e1d38)\" d=\"M 89.7 228.14 \r\nL 93.504545 228.14 \r\nL 93.504545 224.157582 \r\nL 89.7 224.157582 \r\nz\r\n\" style=\"fill:#1f77b4;\"/>\r\n   </g>\r\n   <g id=\"patch_6\">\r\n    <path clip-path=\"url(#pd48e5e1d38)\" d=\"M 113.478409 228.14 \r\nL 117.282955 228.14 \r\nL 117.282955 224.157582 \r\nL 113.478409 224.157582 \r\nz\r\n\" style=\"fill:#1f77b4;\"/>\r\n   </g>\r\n   <g id=\"patch_7\">\r\n    <path clip-path=\"url(#pd48e5e1d38)\" d=\"M 137.256818 228.14 \r\nL 141.061364 228.14 \r\nL 141.061364 224.157582 \r\nL 137.256818 224.157582 \r\nz\r\n\" style=\"fill:#1f77b4;\"/>\r\n   </g>\r\n   <g id=\"patch_8\">\r\n    <path clip-path=\"url(#pd48e5e1d38)\" d=\"M 161.035227 228.14 \r\nL 164.839773 228.14 \r\nL 164.839773 200.263077 \r\nL 161.035227 200.263077 \r\nz\r\n\" style=\"fill:#1f77b4;\"/>\r\n   </g>\r\n   <g id=\"patch_9\">\r\n    <path clip-path=\"url(#pd48e5e1d38)\" d=\"M 184.813636 228.14 \r\nL 188.618182 228.14 \r\nL 188.618182 196.280659 \r\nL 184.813636 196.280659 \r\nz\r\n\" style=\"fill:#1f77b4;\"/>\r\n   </g>\r\n   <g id=\"patch_10\">\r\n    <path clip-path=\"url(#pd48e5e1d38)\" d=\"M 208.592045 228.14 \r\nL 212.396591 228.14 \r\nL 212.396591 212.21033 \r\nL 208.592045 212.21033 \r\nz\r\n\" style=\"fill:#1f77b4;\"/>\r\n   </g>\r\n   <g id=\"patch_11\">\r\n    <path clip-path=\"url(#pd48e5e1d38)\" d=\"M 232.370455 228.14 \r\nL 236.175 228.14 \r\nL 236.175 228.14 \r\nL 232.370455 228.14 \r\nz\r\n\" style=\"fill:#1f77b4;\"/>\r\n   </g>\r\n   <g id=\"patch_12\">\r\n    <path clip-path=\"url(#pd48e5e1d38)\" d=\"M 256.148864 228.14 \r\nL 259.953409 228.14 \r\nL 259.953409 216.192747 \r\nL 256.148864 216.192747 \r\nz\r\n\" style=\"fill:#1f77b4;\"/>\r\n   </g>\r\n   <g id=\"patch_13\">\r\n    <path clip-path=\"url(#pd48e5e1d38)\" d=\"M 279.927273 228.14 \r\nL 283.731818 228.14 \r\nL 283.731818 196.280659 \r\nL 279.927273 196.280659 \r\nz\r\n\" style=\"fill:#1f77b4;\"/>\r\n   </g>\r\n   <g id=\"patch_14\">\r\n    <path clip-path=\"url(#pd48e5e1d38)\" d=\"M 303.705682 228.14 \r\nL 307.510227 228.14 \r\nL 307.510227 212.21033 \r\nL 303.705682 212.21033 \r\nz\r\n\" style=\"fill:#1f77b4;\"/>\r\n   </g>\r\n   <g id=\"patch_15\">\r\n    <path clip-path=\"url(#pd48e5e1d38)\" d=\"M 327.484091 228.14 \r\nL 331.288636 228.14 \r\nL 331.288636 140.526813 \r\nL 327.484091 140.526813 \r\nz\r\n\" style=\"fill:#1f77b4;\"/>\r\n   </g>\r\n   <g id=\"patch_16\">\r\n    <path clip-path=\"url(#pd48e5e1d38)\" d=\"M 45.947727 228.14 \r\nL 49.752273 228.14 \r\nL 49.752273 108.667473 \r\nL 45.947727 108.667473 \r\nz\r\n\" style=\"fill:#ff7f0e;\"/>\r\n   </g>\r\n   <g id=\"patch_17\">\r\n    <path clip-path=\"url(#pd48e5e1d38)\" d=\"M 69.726136 228.14 \r\nL 73.530682 228.14 \r\nL 73.530682 196.280659 \r\nL 69.726136 196.280659 \r\nz\r\n\" style=\"fill:#ff7f0e;\"/>\r\n   </g>\r\n   <g id=\"patch_18\">\r\n    <path clip-path=\"url(#pd48e5e1d38)\" d=\"M 93.504545 228.14 \r\nL 97.309091 228.14 \r\nL 97.309091 224.157582 \r\nL 93.504545 224.157582 \r\nz\r\n\" style=\"fill:#ff7f0e;\"/>\r\n   </g>\r\n   <g id=\"patch_19\">\r\n    <path clip-path=\"url(#pd48e5e1d38)\" d=\"M 117.282955 228.14 \r\nL 121.0875 228.14 \r\nL 121.0875 176.368571 \r\nL 117.282955 176.368571 \r\nz\r\n\" style=\"fill:#ff7f0e;\"/>\r\n   </g>\r\n   <g id=\"patch_20\">\r\n    <path clip-path=\"url(#pd48e5e1d38)\" d=\"M 141.061364 228.14 \r\nL 144.865909 228.14 \r\nL 144.865909 228.14 \r\nL 141.061364 228.14 \r\nz\r\n\" style=\"fill:#ff7f0e;\"/>\r\n   </g>\r\n   <g id=\"patch_21\">\r\n    <path clip-path=\"url(#pd48e5e1d38)\" d=\"M 164.839773 228.14 \r\nL 168.644318 228.14 \r\nL 168.644318 220.175165 \r\nL 164.839773 220.175165 \r\nz\r\n\" style=\"fill:#ff7f0e;\"/>\r\n   </g>\r\n   <g id=\"patch_22\">\r\n    <path clip-path=\"url(#pd48e5e1d38)\" d=\"M 188.618182 228.14 \r\nL 192.422727 228.14 \r\nL 192.422727 200.263077 \r\nL 188.618182 200.263077 \r\nz\r\n\" style=\"fill:#ff7f0e;\"/>\r\n   </g>\r\n   <g id=\"patch_23\">\r\n    <path clip-path=\"url(#pd48e5e1d38)\" d=\"M 212.396591 228.14 \r\nL 216.201136 228.14 \r\nL 216.201136 108.667473 \r\nL 212.396591 108.667473 \r\nz\r\n\" style=\"fill:#ff7f0e;\"/>\r\n   </g>\r\n   <g id=\"patch_24\">\r\n    <path clip-path=\"url(#pd48e5e1d38)\" d=\"M 236.175 228.14 \r\nL 239.979545 228.14 \r\nL 239.979545 228.14 \r\nL 236.175 228.14 \r\nz\r\n\" style=\"fill:#ff7f0e;\"/>\r\n   </g>\r\n   <g id=\"patch_25\">\r\n    <path clip-path=\"url(#pd48e5e1d38)\" d=\"M 259.953409 228.14 \r\nL 263.757955 228.14 \r\nL 263.757955 200.263077 \r\nL 259.953409 200.263077 \r\nz\r\n\" style=\"fill:#ff7f0e;\"/>\r\n   </g>\r\n   <g id=\"patch_26\">\r\n    <path clip-path=\"url(#pd48e5e1d38)\" d=\"M 283.731818 228.14 \r\nL 287.536364 228.14 \r\nL 287.536364 112.64989 \r\nL 283.731818 112.64989 \r\nz\r\n\" style=\"fill:#ff7f0e;\"/>\r\n   </g>\r\n   <g id=\"patch_27\">\r\n    <path clip-path=\"url(#pd48e5e1d38)\" d=\"M 307.510227 228.14 \r\nL 311.314773 228.14 \r\nL 311.314773 200.263077 \r\nL 307.510227 200.263077 \r\nz\r\n\" style=\"fill:#ff7f0e;\"/>\r\n   </g>\r\n   <g id=\"patch_28\">\r\n    <path clip-path=\"url(#pd48e5e1d38)\" d=\"M 331.288636 228.14 \r\nL 335.093182 228.14 \r\nL 335.093182 60.878462 \r\nL 331.288636 60.878462 \r\nz\r\n\" style=\"fill:#ff7f0e;\"/>\r\n   </g>\r\n   <g id=\"patch_29\">\r\n    <path clip-path=\"url(#pd48e5e1d38)\" d=\"M 49.752273 228.14 \r\nL 53.556818 228.14 \r\nL 53.556818 176.368571 \r\nL 49.752273 176.368571 \r\nz\r\n\" style=\"fill:#2ca02c;\"/>\r\n   </g>\r\n   <g id=\"patch_30\">\r\n    <path clip-path=\"url(#pd48e5e1d38)\" d=\"M 73.530682 228.14 \r\nL 77.335227 228.14 \r\nL 77.335227 212.21033 \r\nL 73.530682 212.21033 \r\nz\r\n\" style=\"fill:#2ca02c;\"/>\r\n   </g>\r\n   <g id=\"patch_31\">\r\n    <path clip-path=\"url(#pd48e5e1d38)\" d=\"M 97.309091 228.14 \r\nL 101.113636 228.14 \r\nL 101.113636 204.245495 \r\nL 97.309091 204.245495 \r\nz\r\n\" style=\"fill:#2ca02c;\"/>\r\n   </g>\r\n   <g id=\"patch_32\">\r\n    <path clip-path=\"url(#pd48e5e1d38)\" d=\"M 121.0875 228.14 \r\nL 124.892045 228.14 \r\nL 124.892045 180.350989 \r\nL 121.0875 180.350989 \r\nz\r\n\" style=\"fill:#2ca02c;\"/>\r\n   </g>\r\n   <g id=\"patch_33\">\r\n    <path clip-path=\"url(#pd48e5e1d38)\" d=\"M 144.865909 228.14 \r\nL 148.670455 228.14 \r\nL 148.670455 228.14 \r\nL 144.865909 228.14 \r\nz\r\n\" style=\"fill:#2ca02c;\"/>\r\n   </g>\r\n   <g id=\"patch_34\">\r\n    <path clip-path=\"url(#pd48e5e1d38)\" d=\"M 168.644318 228.14 \r\nL 172.448864 228.14 \r\nL 172.448864 220.175165 \r\nL 168.644318 220.175165 \r\nz\r\n\" style=\"fill:#2ca02c;\"/>\r\n   </g>\r\n   <g id=\"patch_35\">\r\n    <path clip-path=\"url(#pd48e5e1d38)\" d=\"M 192.422727 228.14 \r\nL 196.227273 228.14 \r\nL 196.227273 216.192747 \r\nL 192.422727 216.192747 \r\nz\r\n\" style=\"fill:#2ca02c;\"/>\r\n   </g>\r\n   <g id=\"patch_36\">\r\n    <path clip-path=\"url(#pd48e5e1d38)\" d=\"M 216.201136 228.14 \r\nL 220.005682 228.14 \r\nL 220.005682 120.614725 \r\nL 216.201136 120.614725 \r\nz\r\n\" style=\"fill:#2ca02c;\"/>\r\n   </g>\r\n   <g id=\"patch_37\">\r\n    <path clip-path=\"url(#pd48e5e1d38)\" d=\"M 239.979545 228.14 \r\nL 243.784091 228.14 \r\nL 243.784091 224.157582 \r\nL 239.979545 224.157582 \r\nz\r\n\" style=\"fill:#2ca02c;\"/>\r\n   </g>\r\n   <g id=\"patch_38\">\r\n    <path clip-path=\"url(#pd48e5e1d38)\" d=\"M 263.757955 228.14 \r\nL 267.5625 228.14 \r\nL 267.5625 212.21033 \r\nL 263.757955 212.21033 \r\nz\r\n\" style=\"fill:#2ca02c;\"/>\r\n   </g>\r\n   <g id=\"patch_39\">\r\n    <path clip-path=\"url(#pd48e5e1d38)\" d=\"M 287.536364 228.14 \r\nL 291.340909 228.14 \r\nL 291.340909 156.456484 \r\nL 287.536364 156.456484 \r\nz\r\n\" style=\"fill:#2ca02c;\"/>\r\n   </g>\r\n   <g id=\"patch_40\">\r\n    <path clip-path=\"url(#pd48e5e1d38)\" d=\"M 311.314773 228.14 \r\nL 315.119318 228.14 \r\nL 315.119318 216.192747 \r\nL 311.314773 216.192747 \r\nz\r\n\" style=\"fill:#2ca02c;\"/>\r\n   </g>\r\n   <g id=\"patch_41\">\r\n    <path clip-path=\"url(#pd48e5e1d38)\" d=\"M 335.093182 228.14 \r\nL 338.897727 228.14 \r\nL 338.897727 128.57956 \r\nL 335.093182 128.57956 \r\nz\r\n\" style=\"fill:#2ca02c;\"/>\r\n   </g>\r\n   <g id=\"patch_42\">\r\n    <path clip-path=\"url(#pd48e5e1d38)\" d=\"M 53.556818 228.14 \r\nL 57.361364 228.14 \r\nL 57.361364 204.245495 \r\nL 53.556818 204.245495 \r\nz\r\n\" style=\"fill:#d62728;\"/>\r\n   </g>\r\n   <g id=\"patch_43\">\r\n    <path clip-path=\"url(#pd48e5e1d38)\" d=\"M 77.335227 228.14 \r\nL 81.139773 228.14 \r\nL 81.139773 216.192747 \r\nL 77.335227 216.192747 \r\nz\r\n\" style=\"fill:#d62728;\"/>\r\n   </g>\r\n   <g id=\"patch_44\">\r\n    <path clip-path=\"url(#pd48e5e1d38)\" d=\"M 101.113636 228.14 \r\nL 104.918182 228.14 \r\nL 104.918182 144.509231 \r\nL 101.113636 144.509231 \r\nz\r\n\" style=\"fill:#d62728;\"/>\r\n   </g>\r\n   <g id=\"patch_45\">\r\n    <path clip-path=\"url(#pd48e5e1d38)\" d=\"M 124.892045 228.14 \r\nL 128.696591 228.14 \r\nL 128.696591 152.474066 \r\nL 124.892045 152.474066 \r\nz\r\n\" style=\"fill:#d62728;\"/>\r\n   </g>\r\n   <g id=\"patch_46\">\r\n    <path clip-path=\"url(#pd48e5e1d38)\" d=\"M 148.670455 228.14 \r\nL 152.475 228.14 \r\nL 152.475 220.175165 \r\nL 148.670455 220.175165 \r\nz\r\n\" style=\"fill:#d62728;\"/>\r\n   </g>\r\n   <g id=\"patch_47\">\r\n    <path clip-path=\"url(#pd48e5e1d38)\" d=\"M 172.448864 228.14 \r\nL 176.253409 228.14 \r\nL 176.253409 200.263077 \r\nL 172.448864 200.263077 \r\nz\r\n\" style=\"fill:#d62728;\"/>\r\n   </g>\r\n   <g id=\"patch_48\">\r\n    <path clip-path=\"url(#pd48e5e1d38)\" d=\"M 196.227273 228.14 \r\nL 200.031818 228.14 \r\nL 200.031818 220.175165 \r\nL 196.227273 220.175165 \r\nz\r\n\" style=\"fill:#d62728;\"/>\r\n   </g>\r\n   <g id=\"patch_49\">\r\n    <path clip-path=\"url(#pd48e5e1d38)\" d=\"M 220.005682 228.14 \r\nL 223.810227 228.14 \r\nL 223.810227 124.597143 \r\nL 220.005682 124.597143 \r\nz\r\n\" style=\"fill:#d62728;\"/>\r\n   </g>\r\n   <g id=\"patch_50\">\r\n    <path clip-path=\"url(#pd48e5e1d38)\" d=\"M 243.784091 228.14 \r\nL 247.588636 228.14 \r\nL 247.588636 188.315824 \r\nL 243.784091 188.315824 \r\nz\r\n\" style=\"fill:#d62728;\"/>\r\n   </g>\r\n   <g id=\"patch_51\">\r\n    <path clip-path=\"url(#pd48e5e1d38)\" d=\"M 267.5625 228.14 \r\nL 271.367045 228.14 \r\nL 271.367045 220.175165 \r\nL 267.5625 220.175165 \r\nz\r\n\" style=\"fill:#d62728;\"/>\r\n   </g>\r\n   <g id=\"patch_52\">\r\n    <path clip-path=\"url(#pd48e5e1d38)\" d=\"M 291.340909 228.14 \r\nL 295.145455 228.14 \r\nL 295.145455 156.456484 \r\nL 291.340909 156.456484 \r\nz\r\n\" style=\"fill:#d62728;\"/>\r\n   </g>\r\n   <g id=\"patch_53\">\r\n    <path clip-path=\"url(#pd48e5e1d38)\" d=\"M 315.119318 228.14 \r\nL 318.923864 228.14 \r\nL 318.923864 200.263077 \r\nL 315.119318 200.263077 \r\nz\r\n\" style=\"fill:#d62728;\"/>\r\n   </g>\r\n   <g id=\"patch_54\">\r\n    <path clip-path=\"url(#pd48e5e1d38)\" d=\"M 338.897727 228.14 \r\nL 342.702273 228.14 \r\nL 342.702273 132.561978 \r\nL 338.897727 132.561978 \r\nz\r\n\" style=\"fill:#d62728;\"/>\r\n   </g>\r\n   <g id=\"patch_55\">\r\n    <path clip-path=\"url(#pd48e5e1d38)\" d=\"M 57.361364 228.14 \r\nL 61.165909 228.14 \r\nL 61.165909 228.14 \r\nL 57.361364 228.14 \r\nz\r\n\" style=\"fill:#9467bd;\"/>\r\n   </g>\r\n   <g id=\"patch_56\">\r\n    <path clip-path=\"url(#pd48e5e1d38)\" d=\"M 81.139773 228.14 \r\nL 84.944318 228.14 \r\nL 84.944318 228.14 \r\nL 81.139773 228.14 \r\nz\r\n\" style=\"fill:#9467bd;\"/>\r\n   </g>\r\n   <g id=\"patch_57\">\r\n    <path clip-path=\"url(#pd48e5e1d38)\" d=\"M 104.918182 228.14 \r\nL 108.722727 228.14 \r\nL 108.722727 40.966374 \r\nL 104.918182 40.966374 \r\nz\r\n\" style=\"fill:#9467bd;\"/>\r\n   </g>\r\n   <g id=\"patch_58\">\r\n    <path clip-path=\"url(#pd48e5e1d38)\" d=\"M 128.696591 228.14 \r\nL 132.501136 228.14 \r\nL 132.501136 220.175165 \r\nL 128.696591 220.175165 \r\nz\r\n\" style=\"fill:#9467bd;\"/>\r\n   </g>\r\n   <g id=\"patch_59\">\r\n    <path clip-path=\"url(#pd48e5e1d38)\" d=\"M 152.475 228.14 \r\nL 156.279545 228.14 \r\nL 156.279545 188.315824 \r\nL 152.475 188.315824 \r\nz\r\n\" style=\"fill:#9467bd;\"/>\r\n   </g>\r\n   <g id=\"patch_60\">\r\n    <path clip-path=\"url(#pd48e5e1d38)\" d=\"M 176.253409 228.14 \r\nL 180.057955 228.14 \r\nL 180.057955 212.21033 \r\nL 176.253409 212.21033 \r\nz\r\n\" style=\"fill:#9467bd;\"/>\r\n   </g>\r\n   <g id=\"patch_61\">\r\n    <path clip-path=\"url(#pd48e5e1d38)\" d=\"M 200.031818 228.14 \r\nL 203.836364 228.14 \r\nL 203.836364 228.14 \r\nL 200.031818 228.14 \r\nz\r\n\" style=\"fill:#9467bd;\"/>\r\n   </g>\r\n   <g id=\"patch_62\">\r\n    <path clip-path=\"url(#pd48e5e1d38)\" d=\"M 223.810227 228.14 \r\nL 227.614773 228.14 \r\nL 227.614773 212.21033 \r\nL 223.810227 212.21033 \r\nz\r\n\" style=\"fill:#9467bd;\"/>\r\n   </g>\r\n   <g id=\"patch_63\">\r\n    <path clip-path=\"url(#pd48e5e1d38)\" d=\"M 247.588636 228.14 \r\nL 251.393182 228.14 \r\nL 251.393182 64.860879 \r\nL 247.588636 64.860879 \r\nz\r\n\" style=\"fill:#9467bd;\"/>\r\n   </g>\r\n   <g id=\"patch_64\">\r\n    <path clip-path=\"url(#pd48e5e1d38)\" d=\"M 271.367045 228.14 \r\nL 275.171591 228.14 \r\nL 275.171591 224.157582 \r\nL 271.367045 224.157582 \r\nz\r\n\" style=\"fill:#9467bd;\"/>\r\n   </g>\r\n   <g id=\"patch_65\">\r\n    <path clip-path=\"url(#pd48e5e1d38)\" d=\"M 295.145455 228.14 \r\nL 298.95 228.14 \r\nL 298.95 220.175165 \r\nL 295.145455 220.175165 \r\nz\r\n\" style=\"fill:#9467bd;\"/>\r\n   </g>\r\n   <g id=\"patch_66\">\r\n    <path clip-path=\"url(#pd48e5e1d38)\" d=\"M 318.923864 228.14 \r\nL 322.728409 228.14 \r\nL 322.728409 224.157582 \r\nL 318.923864 224.157582 \r\nz\r\n\" style=\"fill:#9467bd;\"/>\r\n   </g>\r\n   <g id=\"patch_67\">\r\n    <path clip-path=\"url(#pd48e5e1d38)\" d=\"M 342.702273 228.14 \r\nL 346.506818 228.14 \r\nL 346.506818 196.280659 \r\nL 342.702273 196.280659 \r\nz\r\n\" style=\"fill:#9467bd;\"/>\r\n   </g>\r\n   <g id=\"matplotlib.axis_1\">\r\n    <g id=\"xtick_1\">\r\n     <g id=\"line2d_1\">\r\n      <defs>\r\n       <path d=\"M 0 0 \r\nL 0 3.5 \r\n\" id=\"ma86e3671d3\" style=\"stroke:#000000;stroke-width:0.8;\"/>\r\n      </defs>\r\n      <g>\r\n       <use style=\"stroke:#000000;stroke-width:0.8;\" x=\"44.045455\" xlink:href=\"#ma86e3671d3\" y=\"228.14\"/>\r\n      </g>\r\n     </g>\r\n     <g id=\"text_1\">\r\n      <!-- 0 -->\r\n      <defs>\r\n       <path d=\"M 31.78125 66.40625 \r\nQ 24.171875 66.40625 20.328125 58.90625 \r\nQ 16.5 51.421875 16.5 36.375 \r\nQ 16.5 21.390625 20.328125 13.890625 \r\nQ 24.171875 6.390625 31.78125 6.390625 \r\nQ 39.453125 6.390625 43.28125 13.890625 \r\nQ 47.125 21.390625 47.125 36.375 \r\nQ 47.125 51.421875 43.28125 58.90625 \r\nQ 39.453125 66.40625 31.78125 66.40625 \r\nz\r\nM 31.78125 74.21875 \r\nQ 44.046875 74.21875 50.515625 64.515625 \r\nQ 56.984375 54.828125 56.984375 36.375 \r\nQ 56.984375 17.96875 50.515625 8.265625 \r\nQ 44.046875 -1.421875 31.78125 -1.421875 \r\nQ 19.53125 -1.421875 13.0625 8.265625 \r\nQ 6.59375 17.96875 6.59375 36.375 \r\nQ 6.59375 54.828125 13.0625 64.515625 \r\nQ 19.53125 74.21875 31.78125 74.21875 \r\nz\r\n\" id=\"DejaVuSans-48\"/>\r\n      </defs>\r\n      <g transform=\"translate(40.864205 242.738437)scale(0.1 -0.1)\">\r\n       <use xlink:href=\"#DejaVuSans-48\"/>\r\n      </g>\r\n     </g>\r\n    </g>\r\n    <g id=\"xtick_2\">\r\n     <g id=\"line2d_2\">\r\n      <g>\r\n       <use style=\"stroke:#000000;stroke-width:0.8;\" x=\"91.602273\" xlink:href=\"#ma86e3671d3\" y=\"228.14\"/>\r\n      </g>\r\n     </g>\r\n     <g id=\"text_2\">\r\n      <!-- 2 -->\r\n      <defs>\r\n       <path d=\"M 19.1875 8.296875 \r\nL 53.609375 8.296875 \r\nL 53.609375 0 \r\nL 7.328125 0 \r\nL 7.328125 8.296875 \r\nQ 12.9375 14.109375 22.625 23.890625 \r\nQ 32.328125 33.6875 34.8125 36.53125 \r\nQ 39.546875 41.84375 41.421875 45.53125 \r\nQ 43.3125 49.21875 43.3125 52.78125 \r\nQ 43.3125 58.59375 39.234375 62.25 \r\nQ 35.15625 65.921875 28.609375 65.921875 \r\nQ 23.96875 65.921875 18.8125 64.3125 \r\nQ 13.671875 62.703125 7.8125 59.421875 \r\nL 7.8125 69.390625 \r\nQ 13.765625 71.78125 18.9375 73 \r\nQ 24.125 74.21875 28.421875 74.21875 \r\nQ 39.75 74.21875 46.484375 68.546875 \r\nQ 53.21875 62.890625 53.21875 53.421875 \r\nQ 53.21875 48.921875 51.53125 44.890625 \r\nQ 49.859375 40.875 45.40625 35.40625 \r\nQ 44.1875 33.984375 37.640625 27.21875 \r\nQ 31.109375 20.453125 19.1875 8.296875 \r\nz\r\n\" id=\"DejaVuSans-50\"/>\r\n      </defs>\r\n      <g transform=\"translate(88.421023 242.738437)scale(0.1 -0.1)\">\r\n       <use xlink:href=\"#DejaVuSans-50\"/>\r\n      </g>\r\n     </g>\r\n    </g>\r\n    <g id=\"xtick_3\">\r\n     <g id=\"line2d_3\">\r\n      <g>\r\n       <use style=\"stroke:#000000;stroke-width:0.8;\" x=\"139.159091\" xlink:href=\"#ma86e3671d3\" y=\"228.14\"/>\r\n      </g>\r\n     </g>\r\n     <g id=\"text_3\">\r\n      <!-- 4 -->\r\n      <defs>\r\n       <path d=\"M 37.796875 64.3125 \r\nL 12.890625 25.390625 \r\nL 37.796875 25.390625 \r\nz\r\nM 35.203125 72.90625 \r\nL 47.609375 72.90625 \r\nL 47.609375 25.390625 \r\nL 58.015625 25.390625 \r\nL 58.015625 17.1875 \r\nL 47.609375 17.1875 \r\nL 47.609375 0 \r\nL 37.796875 0 \r\nL 37.796875 17.1875 \r\nL 4.890625 17.1875 \r\nL 4.890625 26.703125 \r\nz\r\n\" id=\"DejaVuSans-52\"/>\r\n      </defs>\r\n      <g transform=\"translate(135.977841 242.738437)scale(0.1 -0.1)\">\r\n       <use xlink:href=\"#DejaVuSans-52\"/>\r\n      </g>\r\n     </g>\r\n    </g>\r\n    <g id=\"xtick_4\">\r\n     <g id=\"line2d_4\">\r\n      <g>\r\n       <use style=\"stroke:#000000;stroke-width:0.8;\" x=\"186.715909\" xlink:href=\"#ma86e3671d3\" y=\"228.14\"/>\r\n      </g>\r\n     </g>\r\n     <g id=\"text_4\">\r\n      <!-- 6 -->\r\n      <defs>\r\n       <path d=\"M 33.015625 40.375 \r\nQ 26.375 40.375 22.484375 35.828125 \r\nQ 18.609375 31.296875 18.609375 23.390625 \r\nQ 18.609375 15.53125 22.484375 10.953125 \r\nQ 26.375 6.390625 33.015625 6.390625 \r\nQ 39.65625 6.390625 43.53125 10.953125 \r\nQ 47.40625 15.53125 47.40625 23.390625 \r\nQ 47.40625 31.296875 43.53125 35.828125 \r\nQ 39.65625 40.375 33.015625 40.375 \r\nz\r\nM 52.59375 71.296875 \r\nL 52.59375 62.3125 \r\nQ 48.875 64.0625 45.09375 64.984375 \r\nQ 41.3125 65.921875 37.59375 65.921875 \r\nQ 27.828125 65.921875 22.671875 59.328125 \r\nQ 17.53125 52.734375 16.796875 39.40625 \r\nQ 19.671875 43.65625 24.015625 45.921875 \r\nQ 28.375 48.1875 33.59375 48.1875 \r\nQ 44.578125 48.1875 50.953125 41.515625 \r\nQ 57.328125 34.859375 57.328125 23.390625 \r\nQ 57.328125 12.15625 50.6875 5.359375 \r\nQ 44.046875 -1.421875 33.015625 -1.421875 \r\nQ 20.359375 -1.421875 13.671875 8.265625 \r\nQ 6.984375 17.96875 6.984375 36.375 \r\nQ 6.984375 53.65625 15.1875 63.9375 \r\nQ 23.390625 74.21875 37.203125 74.21875 \r\nQ 40.921875 74.21875 44.703125 73.484375 \r\nQ 48.484375 72.75 52.59375 71.296875 \r\nz\r\n\" id=\"DejaVuSans-54\"/>\r\n      </defs>\r\n      <g transform=\"translate(183.534659 242.738437)scale(0.1 -0.1)\">\r\n       <use xlink:href=\"#DejaVuSans-54\"/>\r\n      </g>\r\n     </g>\r\n    </g>\r\n    <g id=\"xtick_5\">\r\n     <g id=\"line2d_5\">\r\n      <g>\r\n       <use style=\"stroke:#000000;stroke-width:0.8;\" x=\"234.272727\" xlink:href=\"#ma86e3671d3\" y=\"228.14\"/>\r\n      </g>\r\n     </g>\r\n     <g id=\"text_5\">\r\n      <!-- 8 -->\r\n      <defs>\r\n       <path d=\"M 31.78125 34.625 \r\nQ 24.75 34.625 20.71875 30.859375 \r\nQ 16.703125 27.09375 16.703125 20.515625 \r\nQ 16.703125 13.921875 20.71875 10.15625 \r\nQ 24.75 6.390625 31.78125 6.390625 \r\nQ 38.8125 6.390625 42.859375 10.171875 \r\nQ 46.921875 13.96875 46.921875 20.515625 \r\nQ 46.921875 27.09375 42.890625 30.859375 \r\nQ 38.875 34.625 31.78125 34.625 \r\nz\r\nM 21.921875 38.8125 \r\nQ 15.578125 40.375 12.03125 44.71875 \r\nQ 8.5 49.078125 8.5 55.328125 \r\nQ 8.5 64.0625 14.71875 69.140625 \r\nQ 20.953125 74.21875 31.78125 74.21875 \r\nQ 42.671875 74.21875 48.875 69.140625 \r\nQ 55.078125 64.0625 55.078125 55.328125 \r\nQ 55.078125 49.078125 51.53125 44.71875 \r\nQ 48 40.375 41.703125 38.8125 \r\nQ 48.828125 37.15625 52.796875 32.3125 \r\nQ 56.78125 27.484375 56.78125 20.515625 \r\nQ 56.78125 9.90625 50.3125 4.234375 \r\nQ 43.84375 -1.421875 31.78125 -1.421875 \r\nQ 19.734375 -1.421875 13.25 4.234375 \r\nQ 6.78125 9.90625 6.78125 20.515625 \r\nQ 6.78125 27.484375 10.78125 32.3125 \r\nQ 14.796875 37.15625 21.921875 38.8125 \r\nz\r\nM 18.3125 54.390625 \r\nQ 18.3125 48.734375 21.84375 45.5625 \r\nQ 25.390625 42.390625 31.78125 42.390625 \r\nQ 38.140625 42.390625 41.71875 45.5625 \r\nQ 45.3125 48.734375 45.3125 54.390625 \r\nQ 45.3125 60.0625 41.71875 63.234375 \r\nQ 38.140625 66.40625 31.78125 66.40625 \r\nQ 25.390625 66.40625 21.84375 63.234375 \r\nQ 18.3125 60.0625 18.3125 54.390625 \r\nz\r\n\" id=\"DejaVuSans-56\"/>\r\n      </defs>\r\n      <g transform=\"translate(231.091477 242.738437)scale(0.1 -0.1)\">\r\n       <use xlink:href=\"#DejaVuSans-56\"/>\r\n      </g>\r\n     </g>\r\n    </g>\r\n    <g id=\"xtick_6\">\r\n     <g id=\"line2d_6\">\r\n      <g>\r\n       <use style=\"stroke:#000000;stroke-width:0.8;\" x=\"281.829545\" xlink:href=\"#ma86e3671d3\" y=\"228.14\"/>\r\n      </g>\r\n     </g>\r\n     <g id=\"text_6\">\r\n      <!-- 10 -->\r\n      <defs>\r\n       <path d=\"M 12.40625 8.296875 \r\nL 28.515625 8.296875 \r\nL 28.515625 63.921875 \r\nL 10.984375 60.40625 \r\nL 10.984375 69.390625 \r\nL 28.421875 72.90625 \r\nL 38.28125 72.90625 \r\nL 38.28125 8.296875 \r\nL 54.390625 8.296875 \r\nL 54.390625 0 \r\nL 12.40625 0 \r\nz\r\n\" id=\"DejaVuSans-49\"/>\r\n      </defs>\r\n      <g transform=\"translate(275.467045 242.738437)scale(0.1 -0.1)\">\r\n       <use xlink:href=\"#DejaVuSans-49\"/>\r\n       <use x=\"63.623047\" xlink:href=\"#DejaVuSans-48\"/>\r\n      </g>\r\n     </g>\r\n    </g>\r\n    <g id=\"xtick_7\">\r\n     <g id=\"line2d_7\">\r\n      <g>\r\n       <use style=\"stroke:#000000;stroke-width:0.8;\" x=\"329.386364\" xlink:href=\"#ma86e3671d3\" y=\"228.14\"/>\r\n      </g>\r\n     </g>\r\n     <g id=\"text_7\">\r\n      <!-- 12 -->\r\n      <g transform=\"translate(323.023864 242.738437)scale(0.1 -0.1)\">\r\n       <use xlink:href=\"#DejaVuSans-49\"/>\r\n       <use x=\"63.623047\" xlink:href=\"#DejaVuSans-50\"/>\r\n      </g>\r\n     </g>\r\n    </g>\r\n   </g>\r\n   <g id=\"matplotlib.axis_2\">\r\n    <g id=\"ytick_1\">\r\n     <g id=\"line2d_8\">\r\n      <defs>\r\n       <path d=\"M 0 0 \r\nL -3.5 0 \r\n\" id=\"m8b538ebe01\" style=\"stroke:#000000;stroke-width:0.8;\"/>\r\n      </defs>\r\n      <g>\r\n       <use style=\"stroke:#000000;stroke-width:0.8;\" x=\"26.925\" xlink:href=\"#m8b538ebe01\" y=\"228.14\"/>\r\n      </g>\r\n     </g>\r\n     <g id=\"text_8\">\r\n      <!-- 0 -->\r\n      <g transform=\"translate(13.5625 231.939219)scale(0.1 -0.1)\">\r\n       <use xlink:href=\"#DejaVuSans-48\"/>\r\n      </g>\r\n     </g>\r\n    </g>\r\n    <g id=\"ytick_2\">\r\n     <g id=\"line2d_9\">\r\n      <g>\r\n       <use style=\"stroke:#000000;stroke-width:0.8;\" x=\"26.925\" xlink:href=\"#m8b538ebe01\" y=\"188.315824\"/>\r\n      </g>\r\n     </g>\r\n     <g id=\"text_9\">\r\n      <!-- 10 -->\r\n      <g transform=\"translate(7.2 192.115043)scale(0.1 -0.1)\">\r\n       <use xlink:href=\"#DejaVuSans-49\"/>\r\n       <use x=\"63.623047\" xlink:href=\"#DejaVuSans-48\"/>\r\n      </g>\r\n     </g>\r\n    </g>\r\n    <g id=\"ytick_3\">\r\n     <g id=\"line2d_10\">\r\n      <g>\r\n       <use style=\"stroke:#000000;stroke-width:0.8;\" x=\"26.925\" xlink:href=\"#m8b538ebe01\" y=\"148.491648\"/>\r\n      </g>\r\n     </g>\r\n     <g id=\"text_10\">\r\n      <!-- 20 -->\r\n      <g transform=\"translate(7.2 152.290867)scale(0.1 -0.1)\">\r\n       <use xlink:href=\"#DejaVuSans-50\"/>\r\n       <use x=\"63.623047\" xlink:href=\"#DejaVuSans-48\"/>\r\n      </g>\r\n     </g>\r\n    </g>\r\n    <g id=\"ytick_4\">\r\n     <g id=\"line2d_11\">\r\n      <g>\r\n       <use style=\"stroke:#000000;stroke-width:0.8;\" x=\"26.925\" xlink:href=\"#m8b538ebe01\" y=\"108.667473\"/>\r\n      </g>\r\n     </g>\r\n     <g id=\"text_11\">\r\n      <!-- 30 -->\r\n      <defs>\r\n       <path d=\"M 40.578125 39.3125 \r\nQ 47.65625 37.796875 51.625 33 \r\nQ 55.609375 28.21875 55.609375 21.1875 \r\nQ 55.609375 10.40625 48.1875 4.484375 \r\nQ 40.765625 -1.421875 27.09375 -1.421875 \r\nQ 22.515625 -1.421875 17.65625 -0.515625 \r\nQ 12.796875 0.390625 7.625 2.203125 \r\nL 7.625 11.71875 \r\nQ 11.71875 9.328125 16.59375 8.109375 \r\nQ 21.484375 6.890625 26.8125 6.890625 \r\nQ 36.078125 6.890625 40.9375 10.546875 \r\nQ 45.796875 14.203125 45.796875 21.1875 \r\nQ 45.796875 27.640625 41.28125 31.265625 \r\nQ 36.765625 34.90625 28.71875 34.90625 \r\nL 20.21875 34.90625 \r\nL 20.21875 43.015625 \r\nL 29.109375 43.015625 \r\nQ 36.375 43.015625 40.234375 45.921875 \r\nQ 44.09375 48.828125 44.09375 54.296875 \r\nQ 44.09375 59.90625 40.109375 62.90625 \r\nQ 36.140625 65.921875 28.71875 65.921875 \r\nQ 24.65625 65.921875 20.015625 65.03125 \r\nQ 15.375 64.15625 9.8125 62.3125 \r\nL 9.8125 71.09375 \r\nQ 15.4375 72.65625 20.34375 73.4375 \r\nQ 25.25 74.21875 29.59375 74.21875 \r\nQ 40.828125 74.21875 47.359375 69.109375 \r\nQ 53.90625 64.015625 53.90625 55.328125 \r\nQ 53.90625 49.265625 50.4375 45.09375 \r\nQ 46.96875 40.921875 40.578125 39.3125 \r\nz\r\n\" id=\"DejaVuSans-51\"/>\r\n      </defs>\r\n      <g transform=\"translate(7.2 112.466691)scale(0.1 -0.1)\">\r\n       <use xlink:href=\"#DejaVuSans-51\"/>\r\n       <use x=\"63.623047\" xlink:href=\"#DejaVuSans-48\"/>\r\n      </g>\r\n     </g>\r\n    </g>\r\n    <g id=\"ytick_5\">\r\n     <g id=\"line2d_12\">\r\n      <g>\r\n       <use style=\"stroke:#000000;stroke-width:0.8;\" x=\"26.925\" xlink:href=\"#m8b538ebe01\" y=\"68.843297\"/>\r\n      </g>\r\n     </g>\r\n     <g id=\"text_12\">\r\n      <!-- 40 -->\r\n      <g transform=\"translate(7.2 72.642515)scale(0.1 -0.1)\">\r\n       <use xlink:href=\"#DejaVuSans-52\"/>\r\n       <use x=\"63.623047\" xlink:href=\"#DejaVuSans-48\"/>\r\n      </g>\r\n     </g>\r\n    </g>\r\n    <g id=\"ytick_6\">\r\n     <g id=\"line2d_13\">\r\n      <g>\r\n       <use style=\"stroke:#000000;stroke-width:0.8;\" x=\"26.925\" xlink:href=\"#m8b538ebe01\" y=\"29.019121\"/>\r\n      </g>\r\n     </g>\r\n     <g id=\"text_13\">\r\n      <!-- 50 -->\r\n      <defs>\r\n       <path d=\"M 10.796875 72.90625 \r\nL 49.515625 72.90625 \r\nL 49.515625 64.59375 \r\nL 19.828125 64.59375 \r\nL 19.828125 46.734375 \r\nQ 21.96875 47.46875 24.109375 47.828125 \r\nQ 26.265625 48.1875 28.421875 48.1875 \r\nQ 40.625 48.1875 47.75 41.5 \r\nQ 54.890625 34.8125 54.890625 23.390625 \r\nQ 54.890625 11.625 47.5625 5.09375 \r\nQ 40.234375 -1.421875 26.90625 -1.421875 \r\nQ 22.3125 -1.421875 17.546875 -0.640625 \r\nQ 12.796875 0.140625 7.71875 1.703125 \r\nL 7.71875 11.625 \r\nQ 12.109375 9.234375 16.796875 8.0625 \r\nQ 21.484375 6.890625 26.703125 6.890625 \r\nQ 35.15625 6.890625 40.078125 11.328125 \r\nQ 45.015625 15.765625 45.015625 23.390625 \r\nQ 45.015625 31 40.078125 35.4375 \r\nQ 35.15625 39.890625 26.703125 39.890625 \r\nQ 22.75 39.890625 18.8125 39.015625 \r\nQ 14.890625 38.140625 10.796875 36.28125 \r\nz\r\n\" id=\"DejaVuSans-53\"/>\r\n      </defs>\r\n      <g transform=\"translate(7.2 32.81834)scale(0.1 -0.1)\">\r\n       <use xlink:href=\"#DejaVuSans-53\"/>\r\n       <use x=\"63.623047\" xlink:href=\"#DejaVuSans-48\"/>\r\n      </g>\r\n     </g>\r\n    </g>\r\n   </g>\r\n   <g id=\"patch_68\">\r\n    <path d=\"M 26.925 228.14 \r\nL 26.925 10.7 \r\n\" style=\"fill:none;stroke:#000000;stroke-linecap:square;stroke-linejoin:miter;stroke-width:0.8;\"/>\r\n   </g>\r\n   <g id=\"patch_69\">\r\n    <path d=\"M 361.725 228.14 \r\nL 361.725 10.7 \r\n\" style=\"fill:none;stroke:#000000;stroke-linecap:square;stroke-linejoin:miter;stroke-width:0.8;\"/>\r\n   </g>\r\n   <g id=\"patch_70\">\r\n    <path d=\"M 26.925 228.14 \r\nL 361.725 228.14 \r\n\" style=\"fill:none;stroke:#000000;stroke-linecap:square;stroke-linejoin:miter;stroke-width:0.8;\"/>\r\n   </g>\r\n   <g id=\"patch_71\">\r\n    <path d=\"M 26.925 10.7 \r\nL 361.725 10.7 \r\n\" style=\"fill:none;stroke:#000000;stroke-linecap:square;stroke-linejoin:miter;stroke-width:0.8;\"/>\r\n   </g>\r\n  </g>\r\n </g>\r\n <defs>\r\n  <clipPath id=\"pd48e5e1d38\">\r\n   <rect height=\"217.44\" width=\"334.8\" x=\"26.925\" y=\"10.7\"/>\r\n  </clipPath>\r\n </defs>\r\n</svg>\r\n",
      "image/png": "[encoded data removed]"
     },
     "metadata": {
      "needs_background": "light"
     }
    },
    {
     "output_type": "execute_result",
     "data": {
      "text/plain": [
       "        PER       TS%   3PAr     FTr   ORB%      DRB%      TRB%      AST%  \\\n",
       "0  0.374684  0.338000  0.809  0.0415  0.009  0.086379  0.081395  0.058583   \n",
       "1  0.345992  0.252667  0.833  0.2780  0.027  0.222591  0.218992  0.111717   \n",
       "\n",
       "       STL%      BLK%  ...       AST       STL       BLK   TOV     PF  \\\n",
       "0  0.105691  0.060811  ...  0.056075  0.208333  0.074074  0.10  0.425   \n",
       "1  0.032520  0.182432  ...  0.074766  0.041667  0.148148  0.08  0.600   \n",
       "\n",
       "        PTS        Player  Pos   Tm  preds  \n",
       "0  0.146814  Alex Abrines   SG  OKC      7  \n",
       "1  0.047091    Quincy Acy   PF  PHO     12  \n",
       "\n",
       "[2 rows x 46 columns]"
      ],
      "text/html": "<div>\n<style scoped>\n    .dataframe tbody tr th:only-of-type {\n        vertical-align: middle;\n    }\n\n    .dataframe tbody tr th {\n        vertical-align: top;\n    }\n\n    .dataframe thead th {\n        text-align: right;\n    }\n</style>\n<table border=\"1\" class=\"dataframe\">\n  <thead>\n    <tr style=\"text-align: right;\">\n      <th></th>\n      <th>PER</th>\n      <th>TS%</th>\n      <th>3PAr</th>\n      <th>FTr</th>\n      <th>ORB%</th>\n      <th>DRB%</th>\n      <th>TRB%</th>\n      <th>AST%</th>\n      <th>STL%</th>\n      <th>BLK%</th>\n      <th>...</th>\n      <th>AST</th>\n      <th>STL</th>\n      <th>BLK</th>\n      <th>TOV</th>\n      <th>PF</th>\n      <th>PTS</th>\n      <th>Player</th>\n      <th>Pos</th>\n      <th>Tm</th>\n      <th>preds</th>\n    </tr>\n  </thead>\n  <tbody>\n    <tr>\n      <th>0</th>\n      <td>0.374684</td>\n      <td>0.338000</td>\n      <td>0.809</td>\n      <td>0.0415</td>\n      <td>0.009</td>\n      <td>0.086379</td>\n      <td>0.081395</td>\n      <td>0.058583</td>\n      <td>0.105691</td>\n      <td>0.060811</td>\n      <td>...</td>\n      <td>0.056075</td>\n      <td>0.208333</td>\n      <td>0.074074</td>\n      <td>0.10</td>\n      <td>0.425</td>\n      <td>0.146814</td>\n      <td>Alex Abrines</td>\n      <td>SG</td>\n      <td>OKC</td>\n      <td>7</td>\n    </tr>\n    <tr>\n      <th>1</th>\n      <td>0.345992</td>\n      <td>0.252667</td>\n      <td>0.833</td>\n      <td>0.2780</td>\n      <td>0.027</td>\n      <td>0.222591</td>\n      <td>0.218992</td>\n      <td>0.111717</td>\n      <td>0.032520</td>\n      <td>0.182432</td>\n      <td>...</td>\n      <td>0.074766</td>\n      <td>0.041667</td>\n      <td>0.148148</td>\n      <td>0.08</td>\n      <td>0.600</td>\n      <td>0.047091</td>\n      <td>Quincy Acy</td>\n      <td>PF</td>\n      <td>PHO</td>\n      <td>12</td>\n    </tr>\n  </tbody>\n</table>\n<p>2 rows × 46 columns</p>\n</div>"
     },
     "metadata": {},
     "execution_count": 3
    }
   ],
   "source": [
    "def silhouette_scorer(estimator, X):\n",
    "    estimator.fit(X)\n",
    "    cluster_labels = estimator.labels_\n",
    "    num_labels = len(set(cluster_labels))\n",
    "    num_samples = len(X.index)\n",
    "    if num_labels == 1 or num_labels == num_samples:\n",
    "        return -1\n",
    "    else:\n",
    "        return sc(X, cluster_labels)\n",
    "\n",
    "def create_cluster(_df, pos):\n",
    "    df = _df.copy()\n",
    "    \n",
    "    models = []\n",
    "    for n_c in range(10,20):\n",
    "        for tol in [0.0001, 0.00005, 0.00002, 0.00001, 0.000001]:\n",
    "            models.append(KMeans(n_clusters=n_c, n_jobs=-1,n_init=500, max_iter=10000, tol=tol))\n",
    "        models.append(AgglomerativeClustering(n_clusters=n_c))\n",
    "        \n",
    "    best_model = None\n",
    "    best_score = 0\n",
    "    \n",
    "    for i in models:\n",
    "        preds = i.fit_predict(df.values)\n",
    "        score = silhouette_score(df.values,preds)\n",
    "        if score > best_score:\n",
    "            best_model = i\n",
    "            best_score = score\n",
    "#         print(f\" {score}, {i}\")\n",
    "    \n",
    "    return best_model, best_model.n_clusters\n",
    "\n",
    "def plot_model(_df, pos, model):\n",
    "    df = _df.copy()\n",
    "    preds = model.fit_predict(df.values)\n",
    "        \n",
    "    df['Player'] = pos['Player']\n",
    "    df['Pos'] = pos['Pos']\n",
    "    df['Tm'] = pos['Tm']\n",
    "    df['preds'] = preds\n",
    "\n",
    "\n",
    "    vals = []\n",
    "    for p in ['PG','SG','SF','PF','C']:\n",
    "        sub_vals = []\n",
    "        for c in range(NB_CLUSTERS):\n",
    "            sub_vals.append(df.loc[(df[\"Pos\"] == p) & (df[\"preds\"] == c)].shape[0])\n",
    "        vals.append(sub_vals)\n",
    "\n",
    "    vals = np.asarray(vals)\n",
    "    data = vals\n",
    "\n",
    "    color_list = ['b', 'g', 'r', 'y', 'orange']\n",
    "    gap = .8 / len(data)\n",
    "    for i, row in enumerate(data):\n",
    "        X = np.arange(len(row))\n",
    "        plt.bar(X + i * gap, row,\n",
    "            width = gap)\n",
    "\n",
    "    plt.show()\n",
    "    return df\n",
    "\n",
    "df = pd.read_csv('../data/merge_stats.csv')\n",
    "\n",
    "df = remove_rk(remove_slash_name(df))\n",
    "# df = remove_age(remove_team(df))\n",
    "df = remove_age(df)\n",
    "df = remove_game(remove_min(df))\n",
    "df = remove_game_started(df)\n",
    "df, pos = extract_name_position(df)\n",
    "\n",
    "df = remove_nan(df)\n",
    "df = normalize_cols(df)\n",
    "\n",
    "model, NB_CLUSTERS = create_cluster(df,pos)\n",
    "\n",
    "print(model)\n",
    "\n",
    "res_df = plot_model(df, pos, model)\n",
    "res_df[:2]"
   ]
  },
  {
   "cell_type": "code",
   "execution_count": 4,
   "metadata": {},
   "outputs": [
    {
     "output_type": "stream",
     "name": "stdout",
     "text": [
      "best cluster for each stats\nPER -> 4 \nTS% -> 8 \n3PAr -> 9 \nFTr -> 4 \nORB% -> 4 \nDRB% -> 4 \nTRB% -> 4 \nAST% -> 6 \nSTL% -> 1 \nBLK% -> 4 \nTOV% -> 1 \nUSG% -> 6 \nOWS -> 4 \nDWS -> 4 \nWS -> 4 \nWS/48 -> 4 \nOBPM -> 6 \nDBPM -> 4 \nBPM -> 4 \nVORP -> 4 \nFG -> 6 \nFGA -> 6 \nFG% -> 8 \n3P -> 6 \n3PA -> 6 \n3P% -> 3 \n2P -> 4 \n2PA -> 4 \n2P% -> 11 \neFG% -> 8 \nFT -> 6 \nFTA -> 6 \nFT% -> 6 \nORB -> 4 \nDRB -> 4 \nTRB -> 4 \nAST -> 6 \nSTL -> 6 \nBLK -> 4 \nTOV -> 6 \nPF -> 4 \nPTS -> 6 \n"
     ]
    }
   ],
   "source": [
    "mean_df = pd.DataFrame(columns=df.columns)\n",
    "for i in range(NB_CLUSTERS):\n",
    "    c_df = res_df.loc[res_df['preds'] == i][df.columns]\n",
    "    mean_df.loc[i] = c_df[df.columns].mean()\n",
    "\n",
    "print(\"best cluster for each stats\")\n",
    "for k, vals in mean_df.to_dict().items():\n",
    "    cluster = max(vals, key=vals.get)\n",
    "    print(f\"{k} -> {cluster} \")"
   ]
  },
  {
   "cell_type": "code",
   "execution_count": 5,
   "metadata": {},
   "outputs": [],
   "source": [
    "df_teams = pd.read_csv('../data/teams_stats.csv')\n",
    "cols = ['Tm'] + ['W'] + ['L'] + ['C_'+str(i) for i in range(NB_CLUSTERS)]\n",
    "a = pd.DataFrame(columns=cols)\n",
    "\n",
    "for tm in np.sort(df_teams['Team'].values):\n",
    "    tm_players = res_df.loc[res_df['Tm'] == tm]\n",
    "    tm_stats = df_teams.loc[df_teams['Team'] == tm]\n",
    "    \n",
    "    count_by_preds = pd.Series(index=[str(i) for i in range(NB_CLUSTERS)]).fillna(0)\n",
    "    for key, val in tm_players.groupby(['preds']).size().to_dict().items():\n",
    "        count_by_preds[key] = val\n",
    "    \n",
    "    win_loss = tm_stats[['Team', 'W', 'L']].values\n",
    "    \n",
    "    a = a.append(pd.Series(np.append(win_loss, count_by_preds), index=cols), ignore_index=True)"
   ]
  },
  {
   "cell_type": "code",
   "execution_count": 6,
   "metadata": {},
   "outputs": [
    {
     "output_type": "execute_result",
     "data": {
      "text/plain": [
       "          C_0       C_1       C_2       C_3       C_4       C_5       C_6  \\\n",
       "W10                                                                         \n",
       "1    7.000000  0.666667  2.000000  3.000000  0.000000  1.666667  0.333333   \n",
       "2    3.500000  1.500000  2.500000  2.500000  0.000000  1.000000  0.500000   \n",
       "5    2.428571  1.000000  2.142857  0.714286  0.857143  0.142857  0.857143   \n",
       "6    2.000000  2.000000  0.000000  1.000000  1.000000  0.000000  0.000000   \n",
       "\n",
       "          C_7       C_8       C_9      C_10      C_11      C_12  \n",
       "W10                                                              \n",
       "1    1.666667  2.333333  0.333333  1.666667  0.000000  4.000000  \n",
       "2    2.000000  2.000000  1.000000  2.000000  0.000000  3.500000  \n",
       "5    3.714286  1.285714  0.571429  2.000000  0.857143  3.714286  \n",
       "6    8.000000  0.000000  1.000000  2.000000  1.000000  6.000000  "
      ],
      "text/html": "<div>\n<style scoped>\n    .dataframe tbody tr th:only-of-type {\n        vertical-align: middle;\n    }\n\n    .dataframe tbody tr th {\n        vertical-align: top;\n    }\n\n    .dataframe thead th {\n        text-align: right;\n    }\n</style>\n<table border=\"1\" class=\"dataframe\">\n  <thead>\n    <tr style=\"text-align: right;\">\n      <th></th>\n      <th>C_0</th>\n      <th>C_1</th>\n      <th>C_2</th>\n      <th>C_3</th>\n      <th>C_4</th>\n      <th>C_5</th>\n      <th>C_6</th>\n      <th>C_7</th>\n      <th>C_8</th>\n      <th>C_9</th>\n      <th>C_10</th>\n      <th>C_11</th>\n      <th>C_12</th>\n    </tr>\n    <tr>\n      <th>W10</th>\n      <th></th>\n      <th></th>\n      <th></th>\n      <th></th>\n      <th></th>\n      <th></th>\n      <th></th>\n      <th></th>\n      <th></th>\n      <th></th>\n      <th></th>\n      <th></th>\n      <th></th>\n    </tr>\n  </thead>\n  <tbody>\n    <tr>\n      <th>1</th>\n      <td>7.000000</td>\n      <td>0.666667</td>\n      <td>2.000000</td>\n      <td>3.000000</td>\n      <td>0.000000</td>\n      <td>1.666667</td>\n      <td>0.333333</td>\n      <td>1.666667</td>\n      <td>2.333333</td>\n      <td>0.333333</td>\n      <td>1.666667</td>\n      <td>0.000000</td>\n      <td>4.000000</td>\n    </tr>\n    <tr>\n      <th>2</th>\n      <td>3.500000</td>\n      <td>1.500000</td>\n      <td>2.500000</td>\n      <td>2.500000</td>\n      <td>0.000000</td>\n      <td>1.000000</td>\n      <td>0.500000</td>\n      <td>2.000000</td>\n      <td>2.000000</td>\n      <td>1.000000</td>\n      <td>2.000000</td>\n      <td>0.000000</td>\n      <td>3.500000</td>\n    </tr>\n    <tr>\n      <th>5</th>\n      <td>2.428571</td>\n      <td>1.000000</td>\n      <td>2.142857</td>\n      <td>0.714286</td>\n      <td>0.857143</td>\n      <td>0.142857</td>\n      <td>0.857143</td>\n      <td>3.714286</td>\n      <td>1.285714</td>\n      <td>0.571429</td>\n      <td>2.000000</td>\n      <td>0.857143</td>\n      <td>3.714286</td>\n    </tr>\n    <tr>\n      <th>6</th>\n      <td>2.000000</td>\n      <td>2.000000</td>\n      <td>0.000000</td>\n      <td>1.000000</td>\n      <td>1.000000</td>\n      <td>0.000000</td>\n      <td>0.000000</td>\n      <td>8.000000</td>\n      <td>0.000000</td>\n      <td>1.000000</td>\n      <td>2.000000</td>\n      <td>1.000000</td>\n      <td>6.000000</td>\n    </tr>\n  </tbody>\n</table>\n</div>"
     },
     "metadata": {},
     "execution_count": 6
    }
   ],
   "source": [
    "_a = a.copy()\n",
    "_a['W10'] = _a['W'].apply(lambda x: int(x/10))\n",
    "_a.groupby('W10').mean().iloc[[0,1,-2,-1]]"
   ]
  },
  {
   "cell_type": "code",
   "execution_count": 7,
   "metadata": {},
   "outputs": [
    {
     "output_type": "stream",
     "name": "stdout",
     "text": [
      "['Jonathon Simmons_ORL' 'Tony Parker_CHO']\n['Draymond Green_GSW']\n['Damian Jones_GSW' 'Shaun Livingston_GSW']\n['Kevin Love_CLE']\n[]\n[]\n['Kevin Durant_GSW']\n['Jared Dudley_BRK' 'Furkan Korkmaz_PHI' 'Bruno Caboclo_MEM'\n 'Danuel House_HOU' 'Thon Maker_MIL']\n['DeAndre Jordan_TOT']\n[]\n['Dario Saric_MIN' 'Tyler Johnson_PHO']\n['Zhou Qi_HOU']\n['Jared Terrell_MIN' 'Anfernee Simons_POR' 'Caleb Swanigan_TOT'\n 'Kalin Lucas_DET' 'Wesley Johnson_WAS']\n"
     ]
    }
   ],
   "source": [
    "a = a.sort_values(['W', 'L'], ascending=False)\n",
    "best_teams_roster = a[:3].mean().round().values\n",
    "my_team_players = []\n",
    "\n",
    "\n",
    "for i in range(NB_CLUSTERS):\n",
    "    \n",
    "    players = res_df.loc[res_df['preds'] == i][['Player','Tm']].values\n",
    "    players = [\"{}_{}\".format(i[0],i[1]) for i in players]\n",
    "    print(np.random.choice(players,int(best_teams_roster[i]), replace=False))"
   ]
  },
  {
   "cell_type": "code",
   "execution_count": 8,
   "metadata": {},
   "outputs": [
    {
     "output_type": "stream",
     "name": "stdout",
     "text": [
      "['Jordan McRae_WAS' 'Andrew Harrison_CLE' 'Rodney Hood_CLE'\n 'Omri Casspi_MEM' 'Jeremy Lin_TOR' 'Cameron Payne_CLE' 'Shelvin Mack_TOT']\n['Victor Oladipo_IND']\n['Andrew Bogut_GSW' 'Damian Jones_GSW']\n['Marc Gasol_MEM' 'Nikola Mirotic_NOP' 'Jabari Parker_TOT']\n[]\n['Tyler Zeller_ATL' 'Terrence Jones_HOU']\n[]\n['Donte DiVincenzo_MIL' 'Doug McDermott_IND']\n['Noah Vonleh_NYK' 'Bam Adebayo_MIA']\n[]\n['P.J. Tucker_HOU' 'Jae Crowder_UTA']\n[]\n['Keita Bates-Diop_MIN' 'Christian Wood_MIL' 'Naz Mitrou-Long_UTA'\n 'Channing Frye_CLE']\n"
     ]
    }
   ],
   "source": [
    "a = a.sort_values(['W','L'], ascending=True)\n",
    "worst_teams_roster = a[:3].mean().round().values\n",
    "my_team_players = []\n",
    "\n",
    "for i in range(NB_CLUSTERS):\n",
    "    players = res_df.loc[res_df['preds'] == i][['Player','Tm']].values\n",
    "    players = [\"{}_{}\".format(i[0],i[1]) for i in players]\n",
    "    print(np.random.choice(players,int(worst_teams_roster[i]), replace=False))"
   ]
  },
  {
   "cell_type": "code",
   "execution_count": null,
   "metadata": {},
   "outputs": [],
   "source": []
  }
 ],
 "metadata": {
  "kernelspec": {
   "display_name": "Python 3",
   "language": "python",
   "name": "python3"
  },
  "language_info": {
   "codemirror_mode": {
    "name": "ipython",
    "version": 3
   },
   "file_extension": ".py",
   "mimetype": "text/x-python",
   "name": "python",
   "nbconvert_exporter": "python",
   "pygments_lexer": "ipython3",
   "version": "3.7.2-final"
  }
 },
 "nbformat": 4,
 "nbformat_minor": 2
}