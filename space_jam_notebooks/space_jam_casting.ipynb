{
 "cells": [
  {
   "cell_type": "code",
   "execution_count": 2,
   "metadata": {},
   "outputs": [],
   "source": [
    "import pandas as pd\n",
    "import numpy as np\n",
    "from sklearn.neighbors import NearestNeighbors\n",
    "from sklearn.preprocessing import MinMaxScaler"
   ]
  },
  {
   "cell_type": "code",
   "execution_count": 3,
   "metadata": {},
   "outputs": [],
   "source": [
    "# import custom stats preparing tools\n",
    "import sys\n",
    "\n",
    "sys.path.insert(1,'../utils')\n",
    "\n",
    "from stats_preparing import *"
   ]
  },
  {
   "source": [
    "## choosing a metric\n",
    "\n",
    "Here we decided to study the variation of distance between different metric. We decided to use the metric that\n",
    "output the greatest variation in hope to better isolate each player. "
   ],
   "cell_type": "markdown",
   "metadata": {}
  },
  {
   "cell_type": "code",
   "execution_count": 15,
   "metadata": {},
   "outputs": [
    {
     "output_type": "execute_result",
     "data": {
      "text/plain": [
       "'canberra'"
      ]
     },
     "metadata": {},
     "execution_count": 15
    }
   ],
   "source": [
    "# we use pandas to load data directly from csv\n",
    "df = pd.read_csv('../data/players/95-96_merge_stats.csv')\n",
    "\n",
    "# apply a couple of preprocessing function\n",
    "df = remove_rk(remove_slash_name(df))\n",
    "df = remove_age(remove_team(df))\n",
    "df = remove_game(remove_min(df))\n",
    "\n",
    "df = remove_nan(df)\n",
    "\n",
    "df_old, _ = extract_name_position(df)\n",
    "\n",
    "df = pd.read_csv('../data/players/19-20_merge_stats.csv')\n",
    "\n",
    "df = remove_rk(remove_slash_name(df))\n",
    "df = remove_age(remove_team(df))\n",
    "df = remove_game(remove_min(df))\n",
    "\n",
    "df = remove_nan(df)\n",
    "\n",
    "df_current, _ = extract_name_position(df)\n",
    "\n",
    "scaler = MinMaxScaler().fit(np.concatenate((df_current.values, df_old.values)))\n",
    "\n",
    "\n",
    "curr_values = scaler.transform(df_current.values)\n",
    "old_values = scaler.transform(df_old.values)\n",
    "\n",
    "performance_metric = {}\n",
    "for metric in ['braycurtis', 'canberra', 'chebyshev', 'correlation', 'hamming', 'kulsinski', 'minkowski', 'rogerstanimoto', 'russellrao', 'sokalmichener', 'sokalsneath',\n",
    "               'sqeuclidean']:\n",
    "    neigh = NearestNeighbors(n_neighbors=1, metric=metric)\n",
    "\n",
    "    neigh.fit(curr_values)\n",
    "\n",
    "    dst, ids = neigh.kneighbors(old_values)\n",
    "\n",
    "    performance_metric[metric] = np.std(dst)\n",
    "\n",
    "    \n",
    "max_idx = max(performance_metric, key=performance_metric.get)\n",
    "max_idx"
   ]
  },
  {
   "cell_type": "code",
   "execution_count": 10,
   "metadata": {},
   "outputs": [],
   "source": [
    "def get_alike_player(name):\n",
    "    # we use pandas to load data directly from csv\n",
    "    df = pd.read_csv('../data/players/95-96_merge_stats.csv')\n",
    "\n",
    "    # apply a couple of preprocessing function\n",
    "    df = remove_rk(remove_slash_name(df))\n",
    "    df = remove_age(remove_team(df))\n",
    "    df = remove_game(remove_min(df))\n",
    "\n",
    "    pos_used = ['PG','SG','SF','PF','C']\n",
    "    df = df.loc[df['Pos'].isin(pos_used)]\n",
    "    df = remove_nan(df)\n",
    "\n",
    "    df_jordan, _ = extract_name_position(df.loc[df['Player'] == name])\n",
    "    df_jordan\n",
    "\n",
    "    df = pd.read_csv('../data/players/19-20_merge_stats.csv')\n",
    "\n",
    "    df = remove_rk(remove_slash_name(df))\n",
    "    df = remove_age(remove_team(df))\n",
    "    df = remove_game(remove_min(df))\n",
    "\n",
    "    pos_used = ['PG','SG','SF','PF','C']\n",
    "    df = df.loc[df['Pos'].isin(pos_used)]\n",
    "    df = remove_nan(df)\n",
    "\n",
    "    df_current_player, df_current_names = extract_name_position(df)\n",
    "\n",
    "    neigh = NearestNeighbors(n_neighbors=5, metric=max_idx)\n",
    "\n",
    "    scaler = MinMaxScaler().fit(np.concatenate((df_current_player.values, df_jordan.values)))\n",
    "\n",
    "    neigh.fit(scaler.transform(df_current_player.values))\n",
    "\n",
    "    dst, ids = neigh.kneighbors(scaler.transform(df_jordan.values))\n",
    "    return df_current_names.iloc[ids[0]]"
   ]
  },
  {
   "cell_type": "code",
   "execution_count": 11,
   "metadata": {},
   "outputs": [
    {
     "output_type": "stream",
     "name": "stdout",
     "text": [
      "Equivalent current player to Michael Jordan\n",
      "                Player Pos\n",
      "373      Kawhi Leonard  SF\n",
      "623  Russell Westbrook  PG\n",
      "162      Anthony Davis  PF\n",
      "40        Bradley Beal  SG\n",
      "307     Brandon Ingram  PF\n",
      "\n",
      "Equivalent current player to Charles Barkley\n",
      "                    Player Pos\n",
      "191            Joel Embiid   C\n",
      "162          Anthony Davis  PF\n",
      "334           Nikola Jokić   C\n",
      "507          Julius Randle  PF\n",
      "12   Giannis Antetokounmpo  PF\n",
      "\n",
      "Equivalent current player to Shawn Bradley\n",
      "               Player Pos\n",
      "626  Hassan Whiteside   C\n",
      "1         Bam Adebayo  PF\n",
      "6       Jarrett Allen   C\n",
      "548       Ben Simmons  PG\n",
      "0        Steven Adams   C\n",
      "\n",
      "Equivalent current player to Muggsy Bogues\n",
      "            Player Pos\n",
      "288   Jaylen Hoard  SF\n",
      "586    Evan Turner  PG\n",
      "508    Josh Reaves  SG\n",
      "417  Chimezie Metu  PF\n",
      "367   Jalen Lecque  PG\n",
      "\n",
      "Equivalent current player to Patrick Ewing\n",
      "             Player Pos\n",
      "183  Andre Drummond   C\n",
      "22    Deandre Ayton   C\n",
      "169   DeMar DeRozan  SF\n",
      "162   Anthony Davis  PF\n",
      "191     Joel Embiid   C\n",
      "\n",
      "Equivalent current player to Larry Johnson\n",
      "                      Player Pos\n",
      "507            Julius Randle  PF\n",
      "228  Shai Gilgeous-Alexander  SG\n",
      "191              Joel Embiid   C\n",
      "334             Nikola Jokić   C\n",
      "99              Jimmy Butler  SF\n",
      "\n"
     ]
    }
   ],
   "source": [
    "player_names = ['Michael Jordan', 'Charles Barkley', 'Shawn Bradley',\n",
    "                'Muggsy Bogues', 'Patrick Ewing', 'Larry Johnson']\n",
    "for p in player_names:\n",
    "    print('Equivalent current player to {}'.format(p))\n",
    "    print(get_alike_player(p))\n",
    "    print()"
   ]
  },
  {
   "cell_type": "code",
   "execution_count": 67,
   "metadata": {},
   "outputs": [],
   "source": [
    "def get_alike_team(team, old='95-96', new='19-20', _type='merge_stats', n_neighbors=1):\n",
    "    # we use pandas to load data directly from csv\n",
    "    df = pd.read_csv('../data/players/{}_{}.csv'.format(old,_type))\n",
    "\n",
    "    # apply a couple of preprocessing function\n",
    "    df = remove_rk(remove_slash_name(df))\n",
    "    df = df.loc[df['Tm'] == team]\n",
    "    df = remove_age(remove_team(df))\n",
    "    df = remove_game(remove_min(df))\n",
    "\n",
    "    pos_used = ['PG','SG','SF','PF','C']\n",
    "    df = df.loc[df['Pos'].isin(pos_used)]\n",
    "    df = remove_nan(df)\n",
    "\n",
    "    df_old_team, df_old_names = extract_name_position(df)\n",
    "\n",
    "    df = pd.read_csv('../data/players/{}_{}.csv'.format(new,_type))\n",
    "\n",
    "    df = remove_rk(remove_slash_name(df))\n",
    "    df = remove_age(remove_team(df))\n",
    "    df = remove_game(remove_min(df))\n",
    "\n",
    "    pos_used = ['PG','SG','SF','PF','C']\n",
    "    df = df.loc[df['Pos'].isin(pos_used)]\n",
    "    df = remove_nan(df)\n",
    "\n",
    "    df_current_player, df_current_names = extract_name_position(df)\n",
    "    neigh = NearestNeighbors(n_neighbors=n_neighbors, metric=max_idx)\n",
    "    \n",
    "    scaler = MinMaxScaler().fit(np.concatenate((df_current_player.values, df_old_team.values)))\n",
    "    neigh.fit(scaler.transform(df_current_player.values))\n",
    "\n",
    "    dst, ids = neigh.kneighbors(scaler.transform(df_old_team.values))\n",
    "\n",
    "    result_df = pd.DataFrame({'{} players'.format(old) : (df_old_names.values)[:,0],\n",
    "    '{} players'.format(new) : [', '.join([str(df_current_names.iloc[j].values[0]) for j in i]) for i in ids]})\n",
    "    \n",
    "    return result_df"
   ]
  },
  {
   "cell_type": "code",
   "execution_count": 75,
   "metadata": {},
   "outputs": [
    {
     "output_type": "stream",
     "name": "stdout",
     "text": [
      "old player and current equivalent :\n"
     ]
    },
    {
     "output_type": "execute_result",
     "data": {
      "text/plain": [
       "      00-01 players                                   19-20 players\n",
       "0         Raja Bell       Jordan Bone, Derrick Walton, Gabe Vincent\n",
       "1     Rodney Buford       PJ Dozier, Lonnie Walker, DaQuan Jeffries\n",
       "2       Matt Geiger   Anžejs Pasečņiks, Harry Giles, Hamidou Diallo\n",
       "3       Tyrone Hill       Richaun Holmes, Ivica Zubac, Steven Adams\n",
       "4     Allen Iverson       Kawhi Leonard, Bradley Beal, Devin Booker\n",
       "5     Jumaine Jones     James Ennis, Jalen McDaniels, Javonte Green\n",
       "6        Toni Kukoč     Delon Wright, Troy Brown Jr., Jalen Brunson\n",
       "7      George Lynch        Cody Zeller, Dwight Powell, Daniel Theis\n",
       "8   Todd MacCulloch     Ante Žižić, Daniel Gafford, Robert Williams\n",
       "9    Vernon Maxwell   Jerome Robinson, Tyler Johnson, Edmond Sumner\n",
       "10      Aaron McKie       Ricky Rubio, Markelle Fultz, Eric Bledsoe\n",
       "11   Roshown McLeod    Kyle Alexander, Justin Patton, Jarrod Uthoff\n",
       "12   Anthony Miller          J.P. Macura, Jacob Evans, Zach Norvell\n",
       "13    Nazr Mohammed            Ante Žižić, Ed Davis, Tyson Chandler\n",
       "14  Dikembe Mutombo       Clint Capela, Rudy Gobert, Richaun Holmes\n",
       "15      Kevin Ollie              Elie Okobo, Raul Neto, Alex Caruso\n",
       "16     Theo Ratliff       Richaun Holmes, Rudy Gobert, Clint Capela\n",
       "17     Pepe Sánchez  Melvin Frazier, KZ Okpala, Nigel Williams-Goss\n",
       "18        Eric Snow   Markelle Fultz, Ricky Rubio, Tomáš Satoranský"
      ],
      "text/html": "<div>\n<style scoped>\n    .dataframe tbody tr th:only-of-type {\n        vertical-align: middle;\n    }\n\n    .dataframe tbody tr th {\n        vertical-align: top;\n    }\n\n    .dataframe thead th {\n        text-align: right;\n    }\n</style>\n<table border=\"1\" class=\"dataframe\">\n  <thead>\n    <tr style=\"text-align: right;\">\n      <th></th>\n      <th>00-01 players</th>\n      <th>19-20 players</th>\n    </tr>\n  </thead>\n  <tbody>\n    <tr>\n      <th>0</th>\n      <td>Raja Bell</td>\n      <td>Jordan Bone, Derrick Walton, Gabe Vincent</td>\n    </tr>\n    <tr>\n      <th>1</th>\n      <td>Rodney Buford</td>\n      <td>PJ Dozier, Lonnie Walker, DaQuan Jeffries</td>\n    </tr>\n    <tr>\n      <th>2</th>\n      <td>Matt Geiger</td>\n      <td>Anžejs Pasečņiks, Harry Giles, Hamidou Diallo</td>\n    </tr>\n    <tr>\n      <th>3</th>\n      <td>Tyrone Hill</td>\n      <td>Richaun Holmes, Ivica Zubac, Steven Adams</td>\n    </tr>\n    <tr>\n      <th>4</th>\n      <td>Allen Iverson</td>\n      <td>Kawhi Leonard, Bradley Beal, Devin Booker</td>\n    </tr>\n    <tr>\n      <th>5</th>\n      <td>Jumaine Jones</td>\n      <td>James Ennis, Jalen McDaniels, Javonte Green</td>\n    </tr>\n    <tr>\n      <th>6</th>\n      <td>Toni Kukoč</td>\n      <td>Delon Wright, Troy Brown Jr., Jalen Brunson</td>\n    </tr>\n    <tr>\n      <th>7</th>\n      <td>George Lynch</td>\n      <td>Cody Zeller, Dwight Powell, Daniel Theis</td>\n    </tr>\n    <tr>\n      <th>8</th>\n      <td>Todd MacCulloch</td>\n      <td>Ante Žižić, Daniel Gafford, Robert Williams</td>\n    </tr>\n    <tr>\n      <th>9</th>\n      <td>Vernon Maxwell</td>\n      <td>Jerome Robinson, Tyler Johnson, Edmond Sumner</td>\n    </tr>\n    <tr>\n      <th>10</th>\n      <td>Aaron McKie</td>\n      <td>Ricky Rubio, Markelle Fultz, Eric Bledsoe</td>\n    </tr>\n    <tr>\n      <th>11</th>\n      <td>Roshown McLeod</td>\n      <td>Kyle Alexander, Justin Patton, Jarrod Uthoff</td>\n    </tr>\n    <tr>\n      <th>12</th>\n      <td>Anthony Miller</td>\n      <td>J.P. Macura, Jacob Evans, Zach Norvell</td>\n    </tr>\n    <tr>\n      <th>13</th>\n      <td>Nazr Mohammed</td>\n      <td>Ante Žižić, Ed Davis, Tyson Chandler</td>\n    </tr>\n    <tr>\n      <th>14</th>\n      <td>Dikembe Mutombo</td>\n      <td>Clint Capela, Rudy Gobert, Richaun Holmes</td>\n    </tr>\n    <tr>\n      <th>15</th>\n      <td>Kevin Ollie</td>\n      <td>Elie Okobo, Raul Neto, Alex Caruso</td>\n    </tr>\n    <tr>\n      <th>16</th>\n      <td>Theo Ratliff</td>\n      <td>Richaun Holmes, Rudy Gobert, Clint Capela</td>\n    </tr>\n    <tr>\n      <th>17</th>\n      <td>Pepe Sánchez</td>\n      <td>Melvin Frazier, KZ Okpala, Nigel Williams-Goss</td>\n    </tr>\n    <tr>\n      <th>18</th>\n      <td>Eric Snow</td>\n      <td>Markelle Fultz, Ricky Rubio, Tomáš Satoranský</td>\n    </tr>\n  </tbody>\n</table>\n</div>"
     },
     "metadata": {},
     "execution_count": 75
    }
   ],
   "source": [
    "new = '19-20'\n",
    "old = '00-01'\n",
    "result_df = get_alike_team('PHI', new=new, old=old, _type='merge_stats', n_neighbors=3)\n",
    "print('old player and current equivalent :')\n",
    "result_df"
   ]
  },
  {
   "cell_type": "code",
   "execution_count": null,
   "metadata": {},
   "outputs": [],
   "source": []
  }
 ],
 "metadata": {
  "kernelspec": {
   "name": "Python 3.7.2 32-bit ('nba_stat')",
   "display_name": "Python 3.7.2 32-bit ('nba_stat')",
   "metadata": {
    "interpreter": {
     "hash": "6167dff09999b90d24fb96c4bbfd9bb4ec4cb601d9fbf122a51597aa6df5977f"
    }
   }
  },
  "language_info": {
   "codemirror_mode": {
    "name": "ipython",
    "version": 3
   },
   "file_extension": ".py",
   "mimetype": "text/x-python",
   "name": "python",
   "nbconvert_exporter": "python",
   "pygments_lexer": "ipython3",
   "version": "3.7.2-final"
  }
 },
 "nbformat": 4,
 "nbformat_minor": 2
}
