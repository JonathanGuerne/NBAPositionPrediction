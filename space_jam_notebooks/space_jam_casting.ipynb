{
 "cells": [
  {
   "cell_type": "code",
   "execution_count": 1,
   "metadata": {},
   "outputs": [],
   "source": [
    "import pandas as pd\n",
    "import numpy as np\n",
    "from sklearn.neighbors import NearestNeighbors\n",
    "from sklearn.preprocessing import MinMaxScaler"
   ]
  },
  {
   "cell_type": "code",
   "execution_count": 2,
   "metadata": {},
   "outputs": [],
   "source": [
    "# import custom stats preparing tools\n",
    "import sys\n",
    "\n",
    "sys.path.insert(1,'../utils')\n",
    "\n",
    "from stats_preparing import *"
   ]
  },
  {
   "source": [
    "## choosing a metric\n",
    "\n",
    "Here we decided to study the variation of distance between different metric. We decided to use the metric that\n",
    "output the greatest variation in hope to better isolate each player. "
   ],
   "cell_type": "markdown",
   "metadata": {}
  },
  {
   "cell_type": "code",
   "execution_count": 3,
   "metadata": {},
   "outputs": [
    {
     "output_type": "execute_result",
     "data": {
      "text/plain": [
       "'canberra'"
      ]
     },
     "metadata": {},
     "execution_count": 3
    }
   ],
   "source": [
    "# we use pandas to load data directly from csv\n",
    "df = pd.read_csv('../data/adv_stats_95-96.csv')\n",
    "\n",
    "# apply a couple of preprocessing function\n",
    "df = remove_rk(remove_slash_name(df))\n",
    "df = remove_age(remove_team(df))\n",
    "df = remove_game(remove_min(df))\n",
    "\n",
    "df = remove_nan(df)\n",
    "\n",
    "df_old, _ = extract_name_position(df)\n",
    "\n",
    "df = pd.read_csv('../data/adv_stats_18-19.csv')\n",
    "\n",
    "df = remove_rk(remove_slash_name(df))\n",
    "df = remove_age(remove_team(df))\n",
    "df = remove_game(remove_min(df))\n",
    "\n",
    "df = remove_nan(df)\n",
    "\n",
    "df_current, _ = extract_name_position(df)\n",
    "\n",
    "scaler = MinMaxScaler()\n",
    "\n",
    "curr_values = scaler.fit_transform(df_current.values)\n",
    "old_values = scaler.transform(df_old.values)\n",
    "\n",
    "performance_metric = {}\n",
    "for metric in ['braycurtis', 'canberra', 'chebyshev', 'correlation', 'hamming', 'kulsinski', 'minkowski', 'rogerstanimoto', 'russellrao', 'sokalmichener', 'sokalsneath',\n",
    "               'sqeuclidean']:\n",
    "    neigh = NearestNeighbors(1, metric=metric)\n",
    "\n",
    "    neigh.fit(curr_values)\n",
    "\n",
    "    dst, ids = neigh.kneighbors(old_values)\n",
    "    performance_metric[metric] = np.std(dst)\n",
    "\n",
    "    \n",
    "max_idx = max(performance_metric, key=performance_metric.get)\n",
    "max_idx"
   ]
  },
  {
   "cell_type": "code",
   "execution_count": 6,
   "metadata": {},
   "outputs": [],
   "source": [
    "def get_alike_player(name):\n",
    "    # we use pandas to load data directly from csv\n",
    "    df = pd.read_csv('../data/adv_stats_95-96.csv')\n",
    "\n",
    "    # apply a couple of preprocessing function\n",
    "    df = remove_rk(remove_slash_name(df))\n",
    "    df = remove_age(remove_team(df))\n",
    "    df = remove_game(remove_min(df))\n",
    "\n",
    "    pos_used = ['PG','SG','SF','PF','C']\n",
    "    df = df.loc[df['Pos'].isin(pos_used)]\n",
    "    df = remove_nan(df)\n",
    "\n",
    "    df_jordan, _ = extract_name_position(df.loc[df['Player'] == name])\n",
    "    df_jordan\n",
    "\n",
    "    df = pd.read_csv('../data/adv_stats_18-19.csv')\n",
    "\n",
    "    df = remove_rk(remove_slash_name(df))\n",
    "    df = remove_age(remove_team(df))\n",
    "    df = remove_game(remove_min(df))\n",
    "\n",
    "    pos_used = ['PG','SG','SF','PF','C']\n",
    "    df = df.loc[df['Pos'].isin(pos_used)]\n",
    "    df = remove_nan(df)\n",
    "\n",
    "    df_current_player, df_current_names = extract_name_position(df)\n",
    "\n",
    "    neigh = NearestNeighbors(5, metric=max_idx)\n",
    "\n",
    "    scaler = MinMaxScaler()\n",
    "\n",
    "    neigh.fit(scaler.fit_transform(df_current_player.values))\n",
    "\n",
    "    dst, ids = neigh.kneighbors(scaler.transform(df_jordan.values))\n",
    "    return df_current_names.iloc[ids[0]]"
   ]
  },
  {
   "cell_type": "code",
   "execution_count": 7,
   "metadata": {},
   "outputs": [
    {
     "output_type": "stream",
     "name": "stdout",
     "text": [
      "Equivalent current player to Michael Jordan\n",
      "                    Player Pos\n",
      "240            Paul George  SF\n",
      "397          Kawhi Leonard  SF\n",
      "267           James Harden  PG\n",
      "19   Giannis Antetokounmpo  PF\n",
      "104           Jimmy Butler  SF\n",
      "\n",
      "Equivalent current player to Charles Barkley\n",
      "                 Player Pos\n",
      "161       Anthony Davis   C\n",
      "647  Karl-Anthony Towns   C\n",
      "353        Nikola Jokic   C\n",
      "661      Nikola Vucevic   C\n",
      "554       Julius Randle  PF\n",
      "\n",
      "Equivalent current player to Shawn Bradley\n",
      "               Player Pos\n",
      "448      JaVale McGee   C\n",
      "36      Mohamed Bamba   C\n",
      "502       Joakim Noah   C\n",
      "51        Jordan Bell   C\n",
      "678  Hassan Whiteside   C\n",
      "\n",
      "Equivalent current player to Muggsy Bogues\n",
      "                    Player Pos\n",
      "109          Isaiah Canaan  PG\n",
      "171    Matthew Dellavedova  PG\n",
      "627         Caleb Swanigan  PF\n",
      "17           Ryan Anderson  PF\n",
      "496  Sviatoslav Mykhailiuk  SF\n",
      "\n",
      "Equivalent current player to Patrick Ewing\n",
      "                Player Pos\n",
      "678   Hassan Whiteside   C\n",
      "448       JaVale McGee   C\n",
      "655  Jonas Valanciunas   C\n",
      "269   Montrezl Harrell   C\n",
      "4          Bam Adebayo   C\n",
      "\n",
      "Equivalent current player to Larry Johnson\n",
      "               Player Pos\n",
      "554     Julius Randle  PF\n",
      "230  Danilo Gallinari  SF\n",
      "596     Pascal Siakam  PF\n",
      "548     Dwight Powell   C\n",
      "261     Blake Griffin  PF\n",
      "\n"
     ]
    }
   ],
   "source": [
    "player_names = ['Michael Jordan', 'Charles Barkley', 'Shawn Bradley',\n",
    "                'Muggsy Bogues', 'Patrick Ewing', 'Larry Johnson']\n",
    "for p in player_names:\n",
    "    print('Equivalent current player to {}'.format(p))\n",
    "    print(get_alike_player(p))\n",
    "    print()"
   ]
  },
  {
   "cell_type": "code",
   "execution_count": 12,
   "metadata": {},
   "outputs": [],
   "source": [
    "def get_alike_team(team, old='95-96', new='18-19'):\n",
    "    # we use pandas to load data directly from csv\n",
    "    df = pd.read_csv('../data/adv_stats_{}.csv'.format(old))\n",
    "\n",
    "    # apply a couple of preprocessing function\n",
    "    df = remove_rk(remove_slash_name(df))\n",
    "    df = df.loc[df['Tm'] == team]\n",
    "    df = remove_age(remove_team(df))\n",
    "    df = remove_game(remove_min(df))\n",
    "\n",
    "    pos_used = ['PG','SG','SF','PF','C']\n",
    "    df = df.loc[df['Pos'].isin(pos_used)]\n",
    "    df = remove_nan(df)\n",
    "\n",
    "    df_old_team, df_old_names = extract_name_position(df)\n",
    "\n",
    "    df = pd.read_csv('../data/adv_stats_{}.csv'.format(new))\n",
    "\n",
    "    df = remove_rk(remove_slash_name(df))\n",
    "    df = remove_age(remove_team(df))\n",
    "    df = remove_game(remove_min(df))\n",
    "\n",
    "    pos_used = ['PG','SG','SF','PF','C']\n",
    "    df = df.loc[df['Pos'].isin(pos_used)]\n",
    "    df = remove_nan(df)\n",
    "\n",
    "    df_current_player, df_current_names = extract_name_position(df)\n",
    "    neigh = NearestNeighbors(1, metric=max_idx)\n",
    "    \n",
    "    scaler = MinMaxScaler()\n",
    "    neigh.fit(scaler.fit_transform(df_current_player.values))\n",
    "\n",
    "    dst, ids = neigh.kneighbors(scaler.transform(df_old_team.values))\n",
    "    result_df = pd.DataFrame({'{} players'.format(old) : (df_old_names.values)[:,0],\n",
    "    '{} players'.format(new) : df_current_names.iloc[np.reshape(ids,-1)].values[:,0]})\n",
    "    \n",
    "    return result_df"
   ]
  },
  {
   "cell_type": "code",
   "execution_count": 13,
   "metadata": {},
   "outputs": [
    {
     "output_type": "stream",
     "name": "stdout",
     "text": [
      "old player and current equivalent :\n"
     ]
    },
    {
     "output_type": "execute_result",
     "data": {
      "text/plain": [
       "      95-96 players       18-19 players\n",
       "0       Randy Brown  Shaquille Harrison\n",
       "1      Jud Buechler        Delon Wright\n",
       "2      Jason Caffey         Greg Monroe\n",
       "3     James Edwards     Marquese Chriss\n",
       "4        Jack Haley       Angel Delgado\n",
       "5        Ron Harper        Delon Wright\n",
       "6    Michael Jordan         Paul George\n",
       "7        Steve Kerr       D.J. Augustin\n",
       "8        Toni Kukoc       Pascal Siakam\n",
       "9       Luc Longley         Ivica Zubac\n",
       "10   Scottie Pippen         Paul George\n",
       "11    Dennis Rodman         Enes Kanter\n",
       "12      John Salley        Isaiah Hicks\n",
       "13  Dickey Simpkins   Cristiano Felicio\n",
       "14  Bill Wennington      Ersan Ilyasova"
      ],
      "text/html": "<div>\n<style scoped>\n    .dataframe tbody tr th:only-of-type {\n        vertical-align: middle;\n    }\n\n    .dataframe tbody tr th {\n        vertical-align: top;\n    }\n\n    .dataframe thead th {\n        text-align: right;\n    }\n</style>\n<table border=\"1\" class=\"dataframe\">\n  <thead>\n    <tr style=\"text-align: right;\">\n      <th></th>\n      <th>95-96 players</th>\n      <th>18-19 players</th>\n    </tr>\n  </thead>\n  <tbody>\n    <tr>\n      <th>0</th>\n      <td>Randy Brown</td>\n      <td>Shaquille Harrison</td>\n    </tr>\n    <tr>\n      <th>1</th>\n      <td>Jud Buechler</td>\n      <td>Delon Wright</td>\n    </tr>\n    <tr>\n      <th>2</th>\n      <td>Jason Caffey</td>\n      <td>Greg Monroe</td>\n    </tr>\n    <tr>\n      <th>3</th>\n      <td>James Edwards</td>\n      <td>Marquese Chriss</td>\n    </tr>\n    <tr>\n      <th>4</th>\n      <td>Jack Haley</td>\n      <td>Angel Delgado</td>\n    </tr>\n    <tr>\n      <th>5</th>\n      <td>Ron Harper</td>\n      <td>Delon Wright</td>\n    </tr>\n    <tr>\n      <th>6</th>\n      <td>Michael Jordan</td>\n      <td>Paul George</td>\n    </tr>\n    <tr>\n      <th>7</th>\n      <td>Steve Kerr</td>\n      <td>D.J. Augustin</td>\n    </tr>\n    <tr>\n      <th>8</th>\n      <td>Toni Kukoc</td>\n      <td>Pascal Siakam</td>\n    </tr>\n    <tr>\n      <th>9</th>\n      <td>Luc Longley</td>\n      <td>Ivica Zubac</td>\n    </tr>\n    <tr>\n      <th>10</th>\n      <td>Scottie Pippen</td>\n      <td>Paul George</td>\n    </tr>\n    <tr>\n      <th>11</th>\n      <td>Dennis Rodman</td>\n      <td>Enes Kanter</td>\n    </tr>\n    <tr>\n      <th>12</th>\n      <td>John Salley</td>\n      <td>Isaiah Hicks</td>\n    </tr>\n    <tr>\n      <th>13</th>\n      <td>Dickey Simpkins</td>\n      <td>Cristiano Felicio</td>\n    </tr>\n    <tr>\n      <th>14</th>\n      <td>Bill Wennington</td>\n      <td>Ersan Ilyasova</td>\n    </tr>\n  </tbody>\n</table>\n</div>"
     },
     "metadata": {},
     "execution_count": 13
    }
   ],
   "source": [
    "new = '18-19'\n",
    "old = '95-96'\n",
    "result_df = get_alike_team('CHI', new=new, old=old)\n",
    "print('old player and current equivalent :')\n",
    "result_df"
   ]
  },
  {
   "cell_type": "code",
   "execution_count": null,
   "metadata": {},
   "outputs": [],
   "source": []
  }
 ],
 "metadata": {
  "kernelspec": {
   "name": "Python 3.7.2 32-bit ('nba_stat')",
   "display_name": "Python 3.7.2 32-bit ('nba_stat')",
   "metadata": {
    "interpreter": {
     "hash": "6167dff09999b90d24fb96c4bbfd9bb4ec4cb601d9fbf122a51597aa6df5977f"
    }
   }
  },
  "language_info": {
   "codemirror_mode": {
    "name": "ipython",
    "version": 3
   },
   "file_extension": ".py",
   "mimetype": "text/x-python",
   "name": "python",
   "nbconvert_exporter": "python",
   "pygments_lexer": "ipython3",
   "version": "3.7.2-final"
  }
 },
 "nbformat": 4,
 "nbformat_minor": 2
}