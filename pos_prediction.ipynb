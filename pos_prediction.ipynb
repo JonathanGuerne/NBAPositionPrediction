{
 "cells": [
  {
   "cell_type": "code",
   "execution_count": 3,
   "metadata": {},
   "outputs": [],
   "source": [
    "import pandas as pd\n",
    "import numpy as np\n",
    "from sklearn import preprocessing\n",
    "from sklearn.cluster import KMeans\n",
    "import matplotlib.pyplot as plt\n",
    "from sklearn import preprocessing\n",
    "from sklearn.model_selection import train_test_split\n",
    "from sklearn import tree\n",
    "from sklearn.metrics import confusion_matrix, accuracy_score\n",
    "import graphviz \n",
    "import itertools"
   ]
  },
  {
   "cell_type": "code",
   "execution_count": 4,
   "metadata": {},
   "outputs": [],
   "source": [
    "# function use to plot the confusion matrix\n",
    "def plot_cm(cm, classes, title, cmap=plt.cm.Blues):\n",
    "    \"\"\"\n",
    "    This function prints and plots the confusion matrix.\n",
    "    \"\"\"\n",
    "\n",
    "    plt.imshow(cm, interpolation='nearest', cmap=cmap)\n",
    "    plt.title(title)\n",
    "    plt.colorbar(fraction=0.046, pad=0.04)\n",
    "    tick_marks = np.arange(len(classes))\n",
    "    plt.xticks(tick_marks, classes, rotation=45)\n",
    "    plt.yticks(tick_marks, classes)\n",
    "\n",
    "    thresh = cm.max() / 2.\n",
    "    for i, j in itertools.product(range(cm.shape[0]), range(cm.shape[1])):\n",
    "        plt.text(j, i, cm[i, j],\n",
    "                 horizontalalignment=\"center\",\n",
    "                 color=\"white\" if cm[i, j] > thresh else \"black\")\n",
    "\n",
    "    plt.ylabel('True label')\n",
    "    plt.xlabel('Predicted label')\n"
   ]
  },
  {
   "cell_type": "markdown",
   "metadata": {},
   "source": [
    "## Preprocessing functions\n",
    "Here are a couple of preprocessing function used to transform the data we load"
   ]
  },
  {
   "cell_type": "code",
   "execution_count": 5,
   "metadata": {},
   "outputs": [],
   "source": [
    "def remove_slash_name(_df):\n",
    "    df = _df.copy()\n",
    "    df['Player'] = df['Player'].apply(lambda row: row.split('\\\\')[0])\n",
    "    return df\n",
    "\n",
    "def remove_rk(_df):\n",
    "    df = _df.copy()\n",
    "    return df.drop(['Rk'], axis=1)\n",
    "\n",
    "def remove_team(_df):\n",
    "    df = _df.copy()\n",
    "    return df.drop(['Tm'], axis=1)\n",
    "\n",
    "def remove_age(_df):\n",
    "    df = _df.copy()\n",
    "    return df.drop(['Age'], axis=1)\n",
    "\n",
    "def remove_game(_df):\n",
    "    df = _df.copy()\n",
    "    return df.drop(['G'], axis=1)   \n",
    "\n",
    "def remove_game_started(_df):\n",
    "    df = _df.copy()\n",
    "    return df.drop(['GS'], axis=1)   \n",
    "\n",
    "def remove_min(_df):\n",
    "    df = _df.copy()\n",
    "    return df.drop(['MP'], axis=1)    \n",
    "\n",
    "def extract_name_position(_df):\n",
    "    df = _df.copy()\n",
    "    return _df.drop(['Pos','Player'], axis=1), _df[['Player', 'Pos']]\n",
    "    \n",
    "\n",
    "def remove_nan(_df):\n",
    "    df = _df.copy()\n",
    "    return df.dropna(axis=1, how='all').fillna(0)"
   ]
  },
  {
   "cell_type": "markdown",
   "metadata": {},
   "source": [
    "## Data extraction"
   ]
  },
  {
   "cell_type": "code",
   "execution_count": 6,
   "metadata": {},
   "outputs": [
    {
     "name": "stdout",
     "output_type": "stream",
     "text": [
      "C : 120 entries\n",
      "C-PF : 1 entries\n",
      "PF : 147 entries\n",
      "PF-C : 1 entries\n",
      "PF-SF : 2 entries\n",
      "PG : 139 entries\n",
      "SF : 118 entries\n",
      "SF-SG : 2 entries\n",
      "SG : 176 entries\n",
      "SG-PF : 1 entries\n",
      "SG-SF : 1 entries\n"
     ]
    }
   ],
   "source": [
    "# we use pandas to load data directly from csv\n",
    "df = pd.read_csv('stats_per_game.csv')\n",
    "\n",
    "# apply a couple of preprocessing function\n",
    "df = remove_rk(remove_slash_name(df))\n",
    "df = remove_age(remove_team(df))\n",
    "df = remove_game(remove_min(df))\n",
    "df = remove_game_started(df)\n",
    "\n",
    "unique_pos = np.unique(df['Pos'])\n",
    "for p in unique_pos:\n",
    "    print(\"{} : {} entries\".format(p,len(df.loc[df['Pos']==p].index)))\n",
    "\n",
    "# We can see that only PG, SG, SF, PF and C are relevant as other listed position doesn't have enough entry\n",
    "pos_used = ['PG','SG','SF','PF','C']\n",
    "df = df.loc[df['Pos'].isin(pos_used)]\n",
    "\n",
    "df, pos = extract_name_position(df)\n",
    "df = remove_nan(df)"
   ]
  },
  {
   "cell_type": "markdown",
   "metadata": {},
   "source": [
    "## Model creation"
   ]
  },
  {
   "cell_type": "code",
   "execution_count": 6,
   "metadata": {},
   "outputs": [],
   "source": [
    "le = preprocessing.LabelEncoder()\n",
    "y = pos['Pos'].values\n",
    "le.fit(np.unique(y))\n",
    "y = le.transform(y)\n",
    "\n",
    "X = df.values\n",
    "\n",
    "X_train, X_test, y_train, y_test = train_test_split(X, y, test_size=0.33, random_state=42)\n",
    "\n",
    "clf = tree.DecisionTreeClassifier(criterion='entropy', min_samples_leaf=int(X.shape[0]/50))\n",
    "clf.fit(X_train, y_train)"
   ]
  },
  {
   "cell_type": "code",
   "execution_count": 10,
   "metadata": {},
   "outputs": [
    {
     "data": {
      "text/plain": [
       "DecisionTreeClassifier(class_weight=None, criterion='entropy', max_depth=None,\n",
       "            max_features=None, max_leaf_nodes=None,\n",
       "            min_impurity_decrease=0.0, min_impurity_split=None,\n",
       "            min_samples_leaf=14, min_samples_split=2,\n",
       "            min_weight_fraction_leaf=0.0, presort=False, random_state=None,\n",
       "            splitter='best')"
      ]
     },
     "execution_count": 10,
     "metadata": {},
     "output_type": "execute_result"
    }
   ],
   "source": []
  },
  {
   "cell_type": "code",
   "execution_count": 14,
   "metadata": {},
   "outputs": [
    {
     "name": "stdout",
     "output_type": "stream",
     "text": [
      "0.4588744588744589\n"
     ]
    },
    {
     "data": {
      "image/png": "[encoded data removed]",
      "text/plain": [
       "<Figure size 432x288 with 2 Axes>"
      ]
     },
     "metadata": {
      "needs_background": "light"
     },
     "output_type": "display_data"
    }
   ],
   "source": [
    "y_pred = clf.predict(X_test)\n",
    "acc = accuracy_score(y_pred, y_test)\n",
    "cm = confusion_matrix(y_test, y_pred, labels=None, sample_weight=None)\n",
    "plot_cm(cm, le.classes_, 'Position classification')\n",
    "print(acc)"
   ]
  },
  {
   "cell_type": "code",
   "execution_count": 17,
   "metadata": {},
   "outputs": [
    {
     "data": {
      "text/plain": [
       "'postition_prediction_graph.png'"
      ]
     },
     "execution_count": 17,
     "metadata": {},
     "output_type": "execute_result"
    }
   ],
   "source": [
    "dot_data = tree.export_graphviz(clf, out_file=None,\n",
    "                               feature_names=df.columns,\n",
    "                               class_names=le.inverse_transform(range(5)))\n",
    "graph = graphviz.Source(dot_data)\n",
    "graph.render(format='png', filename='postition_prediction_graph')"
   ]
  },
  {
   "cell_type": "code",
   "execution_count": null,
   "metadata": {},
   "outputs": [],
   "source": []
  },
  {
   "cell_type": "code",
   "execution_count": null,
   "metadata": {},
   "outputs": [],
   "source": []
  }
 ],
 "metadata": {
  "kernelspec": {
   "display_name": "Python 3",
   "language": "python",
   "name": "python3"
  },
  "language_info": {
   "codemirror_mode": {
    "name": "ipython",
    "version": 3
   },
   "file_extension": ".py",
   "mimetype": "text/x-python",
   "name": "python",
   "nbconvert_exporter": "python",
   "pygments_lexer": "ipython3",
   "version": "3.7.2"
  }
 },
 "nbformat": 4,
 "nbformat_minor": 2
}
