{
 "cells": [
  {
   "cell_type": "code",
   "execution_count": 3,
   "metadata": {},
   "outputs": [
    {
     "name": "stdout",
     "output_type": "stream",
     "text": [
      "(59,)\n",
      "(52,)\n",
      "(545, 29)\n",
      "(545, 30)\n",
      "Index(['Rk', 'Player', 'Pos', 'Age', 'Tm', 'G', 'MP', 'PER', 'TS%', '3PAr',\n",
      "       'FTr', 'ORB%', 'DRB%', 'TRB%', 'AST%', 'STL%', 'BLK%', 'TOV%', 'USG%',\n",
      "       'Unnamed: 19', 'OWS', 'DWS', 'WS', 'WS/48', 'Unnamed: 24', 'OBPM',\n",
      "       'DBPM', 'BPM', 'VORP', 'GS', 'FG', 'FGA', 'FG%', '3P', '3PA', '3P%',\n",
      "       '2P', '2PA', '2P%', 'eFG%', 'FT', 'FTA', 'FT%', 'ORB', 'DRB', 'TRB',\n",
      "       'AST', 'STL', 'BLK', 'TOV', 'PF', 'PTS'],\n",
      "      dtype='object')\n"
     ]
    },
    {
     "data": {
      "text/plain": [
       "(545, 52)"
      ]
     },
     "execution_count": 3,
     "metadata": {},
     "output_type": "execute_result"
    }
   ],
   "source": [
    "import numpy as np\n",
    "import pandas as pd\n",
    "\n",
    "files = ['adv_stats_95-96.csv','stats_per_game_95-96.csv']\n",
    "\n",
    "lst_df = []\n",
    "for f in files:\n",
    "    lst_df.append(pd.read_csv(f))\n",
    "\n",
    "all_features = np.append(lst_df[0].columns,lst_df[1].columns)\n",
    "print(all_features.shape)\n",
    "unique_features, c = np.unique(all_features, return_counts=True)\n",
    "dup = unique_features[c > 1]\n",
    "print(unique_features.shape)\n",
    "\n",
    "to_merge_on = ['Player','Tm']\n",
    "to_remove = dup.tolist()\n",
    "for i in to_merge_on:\n",
    "    to_remove.remove(i)\n",
    "\n",
    "for l in lst_df:\n",
    "    print(l.shape)\n",
    "    \n",
    "df_0 = lst_df[0]\n",
    "df_1 = lst_df[1].drop(columns=to_remove)\n",
    "\n",
    "df_merge = pd.merge(df_0, df_1, on=to_merge_on, how='outer')\n",
    "print(df_merge.columns)\n",
    "df_merge.to_csv('merge_stats_95-96.csv', index=False)\n",
    "df_merge.shape"
   ]
  },
  {
   "cell_type": "code",
   "execution_count": null,
   "metadata": {},
   "outputs": [],
   "source": []
  },
  {
   "cell_type": "code",
   "execution_count": null,
   "metadata": {},
   "outputs": [],
   "source": []
  }
 ],
 "metadata": {
  "kernelspec": {
   "display_name": "Python 3",
   "language": "python",
   "name": "python3"
  },
  "language_info": {
   "codemirror_mode": {
    "name": "ipython",
    "version": 3
   },
   "file_extension": ".py",
   "mimetype": "text/x-python",
   "name": "python",
   "nbconvert_exporter": "python",
   "pygments_lexer": "ipython3",
   "version": "3.7.2"
  }
 },
 "nbformat": 4,
 "nbformat_minor": 2
}
