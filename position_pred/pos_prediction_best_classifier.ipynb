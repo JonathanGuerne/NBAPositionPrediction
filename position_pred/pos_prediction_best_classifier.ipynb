{
 "cells": [
  {
   "cell_type": "code",
   "execution_count": 1,
   "metadata": {},
   "outputs": [],
   "source": [
    "import pandas as pd\n",
    "import numpy as np\n",
    "from sklearn import preprocessing\n",
    "import matplotlib.pyplot as plt\n",
    "from matplotlib.colors import ListedColormap\n",
    "from sklearn import preprocessing\n",
    "from sklearn.model_selection import train_test_split\n",
    "from sklearn.metrics import confusion_matrix, accuracy_score\n",
    "import graphviz \n",
    "import itertools"
   ]
  },
  {
   "cell_type": "code",
   "execution_count": 2,
   "metadata": {},
   "outputs": [],
   "source": [
    "# function use to plot the confusion matrix\n",
    "def plot_cm(cm, classes, title, cmap=plt.cm.Blues):\n",
    "    \"\"\"\n",
    "    This function prints and plots the confusion matrix.\n",
    "    \"\"\"\n",
    "\n",
    "    plt.imshow(cm, interpolation='nearest', cmap=cmap)\n",
    "    plt.title(title)\n",
    "    plt.colorbar(fraction=0.046, pad=0.04)\n",
    "    tick_marks = np.arange(len(classes))\n",
    "    plt.xticks(tick_marks, classes, rotation=45)\n",
    "    plt.yticks(tick_marks, classes)\n",
    "\n",
    "    thresh = cm.max() / 2.\n",
    "    for i, j in itertools.product(range(cm.shape[0]), range(cm.shape[1])):\n",
    "        plt.text(j, i, cm[i, j],\n",
    "                 horizontalalignment=\"center\",\n",
    "                 color=\"white\" if cm[i, j] > thresh else \"black\")\n",
    "\n",
    "    plt.ylabel('True label')\n",
    "    plt.xlabel('Predicted label')\n"
   ]
  },
  {
   "cell_type": "markdown",
   "metadata": {},
   "source": [
    "## Preprocessing functions\n",
    "Here are a couple of preprocessing function used to transform the data we load"
   ]
  },
  {
   "cell_type": "code",
   "execution_count": 3,
   "metadata": {},
   "outputs": [],
   "source": [
    "def remove_slash_name(_df):\n",
    "    df = _df.copy()\n",
    "    df['Player'] = df['Player'].apply(lambda row: row.split('\\\\')[0])\n",
    "    return df\n",
    "\n",
    "def remove_rk(_df):\n",
    "    df = _df.copy()\n",
    "    return df.drop(['Rk'], axis=1)\n",
    "\n",
    "def remove_team(_df):\n",
    "    df = _df.copy()\n",
    "    return df.drop(['Tm'], axis=1)\n",
    "\n",
    "def remove_age(_df):\n",
    "    df = _df.copy()\n",
    "    return df.drop(['Age'], axis=1)\n",
    "\n",
    "def remove_game(_df):\n",
    "    df = _df.copy()\n",
    "    return df.drop(['G'], axis=1)   \n",
    "\n",
    "def remove_game_started(_df):\n",
    "    df = _df.copy()\n",
    "    return df.drop(['GS'], axis=1)   \n",
    "\n",
    "def remove_min(_df):\n",
    "    df = _df.copy()\n",
    "    return df.drop(['MP'], axis=1)    \n",
    "\n",
    "def extract_name_position(_df):\n",
    "    df = _df.copy()\n",
    "    return _df.drop(['Pos','Player'], axis=1), _df[['Player', 'Pos']]\n",
    "    \n",
    "\n",
    "def remove_nan(_df):\n",
    "    df = _df.copy()\n",
    "    return df.dropna(axis=1, how='all').fillna(0)"
   ]
  },
  {
   "cell_type": "markdown",
   "metadata": {},
   "source": [
    "## Data extraction"
   ]
  },
  {
   "cell_type": "code",
   "execution_count": 17,
   "metadata": {},
   "outputs": [
    {
     "name": "stdout",
     "output_type": "stream",
     "text": [
      "C : 120 entries\n",
      "C-PF : 1 entries\n",
      "PF : 147 entries\n",
      "PF-C : 1 entries\n",
      "PF-SF : 2 entries\n",
      "PG : 139 entries\n",
      "SF : 118 entries\n",
      "SF-SG : 2 entries\n",
      "SG : 176 entries\n",
      "SG-PF : 1 entries\n",
      "SG-SF : 1 entries\n"
     ]
    }
   ],
   "source": [
    "# we use pandas to load data directly from csv\n",
    "df = pd.read_csv('adv_stats.csv')\n",
    "\n",
    "# apply a couple of preprocessing function\n",
    "df = remove_rk(remove_slash_name(df))\n",
    "df = remove_age(remove_team(df))\n",
    "df = remove_game(remove_min(df))\n",
    "\n",
    "unique_pos = np.unique(df['Pos'])\n",
    "for p in unique_pos:\n",
    "    print(\"{} : {} entries\".format(p,len(df.loc[df['Pos']==p].index)))\n",
    "\n",
    "# We can see that only PG, SG, SF, PF and C are relevant as other listed position doesn't have enough entry\n",
    "pos_used = ['PG','SG','SF','PF','C']\n",
    "df = df.loc[df['Pos'].isin(pos_used)]\n",
    "\n",
    "df, pos = extract_name_position(df)\n",
    "df = remove_nan(df)"
   ]
  },
  {
   "cell_type": "markdown",
   "metadata": {},
   "source": [
    "## Model creation"
   ]
  },
  {
   "cell_type": "code",
   "execution_count": 18,
   "metadata": {},
   "outputs": [],
   "source": [
    "from sklearn.neural_network import MLPClassifier\n",
    "from sklearn.neighbors import KNeighborsClassifier\n",
    "from sklearn.svm import SVC\n",
    "from sklearn.gaussian_process import GaussianProcessClassifier\n",
    "from sklearn.gaussian_process.kernels import RBF\n",
    "from sklearn.tree import DecisionTreeClassifier\n",
    "from sklearn.ensemble import RandomForestClassifier, AdaBoostClassifier\n",
    "from sklearn.naive_bayes import GaussianNB\n",
    "from sklearn.discriminant_analysis import QuadraticDiscriminantAnalysis"
   ]
  },
  {
   "cell_type": "code",
   "execution_count": 19,
   "metadata": {},
   "outputs": [],
   "source": [
    "le = preprocessing.LabelEncoder()\n",
    "y = pos['Pos'].values\n",
    "le.fit(np.unique(y))\n",
    "y = le.transform(y)\n",
    "\n",
    "X = df.values\n",
    "\n",
    "X_train, X_test, y_train, y_test = train_test_split(X, y, test_size=0.33, random_state=42)"
   ]
  },
  {
   "cell_type": "code",
   "execution_count": 20,
   "metadata": {},
   "outputs": [],
   "source": [
    "classifiers = [\n",
    "    KNeighborsClassifier(3),\n",
    "    SVC(kernel=\"linear\", C=0.5, probability=True),\n",
    "    SVC(gamma=2, C=1),\n",
    "    #GaussianProcessClassifier(1.0 * RBF(1.0)),\n",
    "    DecisionTreeClassifier(max_depth=5),\n",
    "    RandomForestClassifier(max_depth=8, n_estimators=150),\n",
    "    MLPClassifier(alpha=1, max_iter=1000),\n",
    "    AdaBoostClassifier(),\n",
    "    GaussianNB(),\n",
    "    QuadraticDiscriminantAnalysis()]\n",
    "names = [\"Nearest Neighbors\", \"Linear SVM\", \"RBF SVM\",\n",
    "         #\"Gaussian Process\",\n",
    "         \"Decision Tree\", \"Random Forest\", \"Neural Net\", \"AdaBoost\",\n",
    "         \"Naive Bayes\", \"QDA\"]"
   ]
  },
  {
   "cell_type": "code",
   "execution_count": 21,
   "metadata": {},
   "outputs": [
    {
     "name": "stdout",
     "output_type": "stream",
     "text": [
      "training model Nearest Neighbors\n",
      "training model Linear SVM\n",
      "training model RBF SVM\n",
      "training model Decision Tree\n",
      "training model Random Forest\n",
      "training model Neural Net\n",
      "training model AdaBoost\n",
      "training model Naive Bayes\n",
      "training model QDA\n"
     ]
    }
   ],
   "source": [
    "# iterate over classifiers\n",
    "scores = []\n",
    "for name, clf in zip(names, classifiers):\n",
    "    scores_ = []\n",
    "    print('training model {}'.format(name))\n",
    "    for _ in range(10):\n",
    "        clf.fit(X_train, y_train)\n",
    "        scores_.append(clf.score(X_test, y_test))\n",
    "    scores.append(np.mean(scores_))"
   ]
  },
  {
   "cell_type": "markdown",
   "metadata": {},
   "source": [
    "## All models performances"
   ]
  },
  {
   "cell_type": "code",
   "execution_count": 22,
   "metadata": {},
   "outputs": [
    {
     "data": {
      "image/png": "[encoded data removed]",
      "text/plain": [
       "<Figure size 1080x720 with 1 Axes>"
      ]
     },
     "metadata": {
      "needs_background": "light"
     },
     "output_type": "display_data"
    }
   ],
   "source": [
    "y_pos = np.arange(len(names))\n",
    "performance = scores\n",
    "plt.figure(figsize=(15,10))\n",
    "plt.bar(y_pos, performance, align='center', alpha=0.5)\n",
    "plt.xticks(y_pos, names, rotation='vertical')\n",
    "plt.ylabel('Usage')\n",
    "plt.title('Best models')\n",
    "\n",
    "plt.show()"
   ]
  },
  {
   "cell_type": "markdown",
   "metadata": {},
   "source": [
    "## Best 5 models"
   ]
  },
  {
   "cell_type": "code",
   "execution_count": 23,
   "metadata": {},
   "outputs": [
    {
     "data": {
      "image/png": "[encoded data removed]",
      "text/plain": [
       "<Figure size 1080x720 with 1 Axes>"
      ]
     },
     "metadata": {
      "needs_background": "light"
     },
     "output_type": "display_data"
    }
   ],
   "source": [
    "best_idx = np.flip(np.argsort(scores))[:5]\n",
    "y_pos = np.arange(len(best_idx))\n",
    "performance = np.asarray(scores)[best_idx]\n",
    "plt.figure(figsize=(15,10))\n",
    "plt.bar(y_pos, performance, align='center', alpha=0.5)\n",
    "plt.xticks(y_pos, np.asarray(names)[best_idx], rotation='vertical')\n",
    "plt.ylabel('Usage')\n",
    "plt.title('Best models')\n",
    "\n",
    "plt.show()"
   ]
  },
  {
   "cell_type": "markdown",
   "metadata": {},
   "source": [
    "## Make them vote\n",
    "Can we improve results by combining them"
   ]
  },
  {
   "cell_type": "code",
   "execution_count": 24,
   "metadata": {},
   "outputs": [],
   "source": [
    "from sklearn.ensemble import VotingClassifier"
   ]
  },
  {
   "cell_type": "code",
   "execution_count": 25,
   "metadata": {},
   "outputs": [],
   "source": [
    "best_classifiers_models = np.asarray(classifiers)[best_idx]\n",
    "best_classifiers_names = np.asarray(names)[best_idx]\n",
    "best_classifiers_performance = np.asarray(scores)[best_idx]\n",
    "\n",
    "vote_clf = VotingClassifier(estimators=list(zip(best_classifiers_names, best_classifiers_models)), voting='soft')"
   ]
  },
  {
   "cell_type": "code",
   "execution_count": 26,
   "metadata": {},
   "outputs": [],
   "source": [
    "scores = []\n",
    "for _ in range(10):\n",
    "    vote_clf.fit(X_train,y_train)\n",
    "    scores.append(vote_clf.score(X_test, y_test))\n",
    "score = np.mean(scores)"
   ]
  },
  {
   "cell_type": "code",
   "execution_count": 27,
   "metadata": {},
   "outputs": [],
   "source": [
    "voting_names = np.append(best_classifiers_names,['Voting model'])\n",
    "voting_perf = np.append(best_classifiers_performance, score)"
   ]
  },
  {
   "cell_type": "code",
   "execution_count": 28,
   "metadata": {},
   "outputs": [
    {
     "data": {
      "image/png": "[encoded data removed]",
      "text/plain": [
       "<Figure size 1080x720 with 1 Axes>"
      ]
     },
     "metadata": {
      "needs_background": "light"
     },
     "output_type": "display_data"
    }
   ],
   "source": [
    "y_pos = np.arange(len(voting_names))\n",
    "plt.figure(figsize=(15,10))\n",
    "plt.bar(y_pos, voting_perf, align='center', alpha=0.5)\n",
    "plt.xticks(y_pos, voting_names, rotation='vertical')\n",
    "plt.ylabel('Usage')\n",
    "plt.title('Best models')\n",
    "\n",
    "plt.show()"
   ]
  },
  {
   "cell_type": "markdown",
   "metadata": {},
   "source": [
    "### Confusion matrix of voting model"
   ]
  },
  {
   "cell_type": "code",
   "execution_count": 29,
   "metadata": {},
   "outputs": [
    {
     "name": "stderr",
     "output_type": "stream",
     "text": [
      "c:\\users\\jonathan\\python_env\\nba_stat\\lib\\site-packages\\sklearn\\neural_network\\multilayer_perceptron.py:562: ConvergenceWarning: Stochastic Optimizer: Maximum iterations (1000) reached and the optimization hasn't converged yet.\n",
      "  % self.max_iter, ConvergenceWarning)\n",
      "c:\\users\\jonathan\\python_env\\nba_stat\\lib\\site-packages\\sklearn\\neural_network\\multilayer_perceptron.py:562: ConvergenceWarning: Stochastic Optimizer: Maximum iterations (1000) reached and the optimization hasn't converged yet.\n",
      "  % self.max_iter, ConvergenceWarning)\n",
      "c:\\users\\jonathan\\python_env\\nba_stat\\lib\\site-packages\\sklearn\\neural_network\\multilayer_perceptron.py:562: ConvergenceWarning: Stochastic Optimizer: Maximum iterations (1000) reached and the optimization hasn't converged yet.\n",
      "  % self.max_iter, ConvergenceWarning)\n",
      "c:\\users\\jonathan\\python_env\\nba_stat\\lib\\site-packages\\sklearn\\neural_network\\multilayer_perceptron.py:562: ConvergenceWarning: Stochastic Optimizer: Maximum iterations (1000) reached and the optimization hasn't converged yet.\n",
      "  % self.max_iter, ConvergenceWarning)\n",
      "c:\\users\\jonathan\\python_env\\nba_stat\\lib\\site-packages\\sklearn\\neural_network\\multilayer_perceptron.py:562: ConvergenceWarning: Stochastic Optimizer: Maximum iterations (1000) reached and the optimization hasn't converged yet.\n",
      "  % self.max_iter, ConvergenceWarning)\n"
     ]
    },
    {
     "name": "stdout",
     "output_type": "stream",
     "text": [
      "Accuracy: 0.57 (+/- 0.09)\n"
     ]
    },
    {
     "name": "stderr",
     "output_type": "stream",
     "text": [
      "c:\\users\\jonathan\\python_env\\nba_stat\\lib\\site-packages\\sklearn\\neural_network\\multilayer_perceptron.py:562: ConvergenceWarning: Stochastic Optimizer: Maximum iterations (1000) reached and the optimization hasn't converged yet.\n",
      "  % self.max_iter, ConvergenceWarning)\n",
      "c:\\users\\jonathan\\python_env\\nba_stat\\lib\\site-packages\\sklearn\\neural_network\\multilayer_perceptron.py:562: ConvergenceWarning: Stochastic Optimizer: Maximum iterations (1000) reached and the optimization hasn't converged yet.\n",
      "  % self.max_iter, ConvergenceWarning)\n",
      "c:\\users\\jonathan\\python_env\\nba_stat\\lib\\site-packages\\sklearn\\neural_network\\multilayer_perceptron.py:562: ConvergenceWarning: Stochastic Optimizer: Maximum iterations (1000) reached and the optimization hasn't converged yet.\n",
      "  % self.max_iter, ConvergenceWarning)\n",
      "c:\\users\\jonathan\\python_env\\nba_stat\\lib\\site-packages\\sklearn\\neural_network\\multilayer_perceptron.py:562: ConvergenceWarning: Stochastic Optimizer: Maximum iterations (1000) reached and the optimization hasn't converged yet.\n",
      "  % self.max_iter, ConvergenceWarning)\n",
      "c:\\users\\jonathan\\python_env\\nba_stat\\lib\\site-packages\\sklearn\\neural_network\\multilayer_perceptron.py:562: ConvergenceWarning: Stochastic Optimizer: Maximum iterations (1000) reached and the optimization hasn't converged yet.\n",
      "  % self.max_iter, ConvergenceWarning)\n"
     ]
    },
    {
     "data": {
      "image/png": "[encoded data removed]",
      "text/plain": [
       "<Figure size 432x288 with 2 Axes>"
      ]
     },
     "metadata": {
      "needs_background": "light"
     },
     "output_type": "display_data"
    }
   ],
   "source": [
    "from sklearn.model_selection import cross_val_score, cross_val_predict\n",
    "\n",
    "scores = cross_val_score(vote_clf,X_test, y_test, cv=5)\n",
    "print(\"Accuracy: %0.2f (+/- %0.2f)\" % (scores.mean(), scores.std() * 2))\n",
    "\n",
    "y_pred = cross_val_predict(vote_clf,X_test,y_test,cv=5)\n",
    "acc = accuracy_score(y_pred, y_test)\n",
    "cm = confusion_matrix(y_test, y_pred, labels=None, sample_weight=None)\n",
    "\n",
    "plot_cm(cm, le.classes_, 'Position classification')"
   ]
  },
  {
   "cell_type": "code",
   "execution_count": null,
   "metadata": {},
   "outputs": [],
   "source": []
  }
 ],
 "metadata": {
  "kernelspec": {
   "display_name": "Python 3",
   "language": "python",
   "name": "python3"
  },
  "language_info": {
   "codemirror_mode": {
    "name": "ipython",
    "version": 3
   },
   "file_extension": ".py",
   "mimetype": "text/x-python",
   "name": "python",
   "nbconvert_exporter": "python",
   "pygments_lexer": "ipython3",
   "version": "3.7.2"
  }
 },
 "nbformat": 4,
 "nbformat_minor": 2
}
