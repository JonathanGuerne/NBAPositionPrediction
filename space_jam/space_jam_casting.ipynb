{
 "cells": [
  {
   "cell_type": "code",
   "execution_count": 2,
   "metadata": {},
   "outputs": [
    {
     "data": {
      "text/plain": [
       "'c:\\\\users\\\\jonathan\\\\python_env\\\\nba_stat\\\\scripts\\\\python.exe'"
      ]
     },
     "execution_count": 2,
     "metadata": {},
     "output_type": "execute_result"
    }
   ],
   "source": [
    "import sys\n",
    "sys.executable"
   ]
  },
  {
   "cell_type": "code",
   "execution_count": 37,
   "metadata": {},
   "outputs": [],
   "source": [
    "import pandas as pd\n",
    "import numpy as np\n",
    "from sklearn import preprocessing\n",
    "from sklearn.cluster import KMeans\n",
    "import matplotlib.pyplot as plt\n",
    "from sklearn import preprocessing\n",
    "from sklearn.model_selection import train_test_split\n",
    "from sklearn import tree\n",
    "from sklearn.metrics import confusion_matrix, accuracy_score\n",
    "from sklearn.neighbors import NearestNeighbors\n",
    "import graphviz \n",
    "import itertools"
   ]
  },
  {
   "cell_type": "code",
   "execution_count": 22,
   "metadata": {},
   "outputs": [],
   "source": [
    "def remove_slash_name(_df):\n",
    "    df = _df.copy()\n",
    "    df['Player'] = df['Player'].apply(lambda row: row.split('\\\\')[0])\n",
    "    df['Player'] = df['Player'].apply(lambda row: row.split('*')[0])\n",
    "    \n",
    "    return df\n",
    "\n",
    "def remove_rk(_df):\n",
    "    df = _df.copy()\n",
    "    return df.drop(['Rk'], axis=1)\n",
    "\n",
    "def remove_team(_df):\n",
    "    df = _df.copy()\n",
    "    return df.drop(['Tm'], axis=1)\n",
    "\n",
    "def remove_age(_df):\n",
    "    df = _df.copy()\n",
    "    return df.drop(['Age'], axis=1)\n",
    "\n",
    "def remove_game(_df):\n",
    "    df = _df.copy()\n",
    "    return df.drop(['G'], axis=1)   \n",
    "\n",
    "def remove_game_started(_df):\n",
    "    df = _df.copy()\n",
    "    return df.drop(['GS'], axis=1)   \n",
    "\n",
    "def remove_min(_df):\n",
    "    df = _df.copy()\n",
    "    return df.drop(['MP'], axis=1)    \n",
    "\n",
    "def extract_name_position(_df):\n",
    "    df = _df.copy()\n",
    "    return _df.drop(['Pos','Player'], axis=1), _df[['Player', 'Pos']]\n",
    "    \n",
    "\n",
    "def remove_nan(_df):\n",
    "    df = _df.copy()\n",
    "    return df.dropna(axis=1, how='all').fillna(0)"
   ]
  },
  {
   "cell_type": "code",
   "execution_count": 50,
   "metadata": {},
   "outputs": [],
   "source": [
    "def get_alike_player(name):\n",
    "    # we use pandas to load data directly from csv\n",
    "    df = pd.read_csv('adv_stats_95-96.csv')\n",
    "\n",
    "    # apply a couple of preprocessing function\n",
    "    df = remove_rk(remove_slash_name(df))\n",
    "    df = remove_age(remove_team(df))\n",
    "    df = remove_game(remove_min(df))\n",
    "\n",
    "    pos_used = ['PG','SG','SF','PF','C']\n",
    "    df = df.loc[df['Pos'].isin(pos_used)]\n",
    "    df = remove_nan(df)\n",
    "\n",
    "    df_jordan, _ = extract_name_position(df.loc[df['Player'] == name])\n",
    "    df_jordan\n",
    "\n",
    "    df = pd.read_csv('adv_stats_18-19.csv')\n",
    "\n",
    "    df = remove_rk(remove_slash_name(df))\n",
    "    df = remove_age(remove_team(df))\n",
    "    df = remove_game(remove_min(df))\n",
    "\n",
    "    pos_used = ['PG','SG','SF','PF','C']\n",
    "    df = df.loc[df['Pos'].isin(pos_used)]\n",
    "    df = remove_nan(df)\n",
    "\n",
    "    df_current_player, df_current_names = extract_name_position(df)\n",
    "    neigh = NearestNeighbors(5)\n",
    "    neigh.fit(df_current_player.values)\n",
    "\n",
    "    dst, ids = neigh.kneighbors(df_jordan.values)\n",
    "    return df_current_names.iloc[ids[0]]"
   ]
  },
  {
   "cell_type": "code",
   "execution_count": 54,
   "metadata": {},
   "outputs": [
    {
     "name": "stdout",
     "output_type": "stream",
     "text": [
      "Equivalent current player to Michael Jordan\n",
      "             Player Pos\n",
      "240     Paul George  SF\n",
      "159   Stephen Curry  PG\n",
      "191    Kevin Durant  PF\n",
      "397   Kawhi Leonard  SF\n",
      "401  Damian Lillard  PG\n",
      "\n",
      "Equivalent current player to Charles Barkley\n",
      "                 Player Pos\n",
      "647  Karl-Anthony Towns   C\n",
      "509        Jusuf Nurkic   C\n",
      "574    Domantas Sabonis   C\n",
      "661      Nikola Vucevic   C\n",
      "161       Anthony Davis   C\n",
      "\n",
      "Equivalent current player to Shawn Bradley\n",
      "             Player Pos\n",
      "36    Mohamed Bamba   C\n",
      "258  JaMychal Green  PF\n",
      "116  Wendell Carter   C\n",
      "706     Ivica Zubac   C\n",
      "448    JaVale McGee   C\n",
      "\n",
      "Equivalent current player to Muggsy Bogues\n",
      "                  Player Pos\n",
      "170  Matthew Dellavedova  PG\n",
      "634       Milos Teodosic  PG\n",
      "225          Tim Frazier  PG\n",
      "172  Matthew Dellavedova  PG\n",
      "224          Tim Frazier  PG\n",
      "\n",
      "Equivalent current player to Patrick Ewing\n",
      "                Player Pos\n",
      "655  Jonas Valanciunas   C\n",
      "315        Serge Ibaka   C\n",
      "554      Julius Randle  PF\n",
      "656  Jonas Valanciunas   C\n",
      "692     Christian Wood  PF\n",
      "\n",
      "Equivalent current player to Larry Johnson\n",
      "               Player Pos\n",
      "596     Pascal Siakam  PF\n",
      "269  Montrezl Harrell   C\n",
      "308        Al Horford   C\n",
      "230  Danilo Gallinari  SF\n",
      "104      Jimmy Butler  SF\n",
      "\n"
     ]
    }
   ],
   "source": [
    "player_names = ['Michael Jordan', 'Charles Barkley', 'Shawn Bradley', 'Muggsy Bogues', 'Patrick Ewing', 'Larry Johnson']\n",
    "for p in player_names:\n",
    "    print('Equivalent current player to {}'.format(p))\n",
    "    print(get_alike_player(p))\n",
    "    print()"
   ]
  },
  {
   "cell_type": "code",
   "execution_count": null,
   "metadata": {},
   "outputs": [],
   "source": []
  }
 ],
 "metadata": {
  "kernelspec": {
   "display_name": "Python 3",
   "language": "python",
   "name": "python3"
  },
  "language_info": {
   "codemirror_mode": {
    "name": "ipython",
    "version": 3
   },
   "file_extension": ".py",
   "mimetype": "text/x-python",
   "name": "python",
   "nbconvert_exporter": "python",
   "pygments_lexer": "ipython3",
   "version": "3.7.2"
  }
 },
 "nbformat": 4,
 "nbformat_minor": 2
}
